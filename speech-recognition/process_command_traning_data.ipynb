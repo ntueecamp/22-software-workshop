{
  "cells": [
    {
      "cell_type": "markdown",
      "metadata": {
        "id": "7HJ4tFmP4JFL"
      },
      "source": [
        "# Prepare audio data for image recognition\n",
        "\n",
        "The data is pretty good, but there's a few samples that aren't exactly 1 second long and some samples that are either truncated or don't contain very much of the word.\n",
        "\n",
        "The code in the notebook attempts to filter out the broken audio so that we are only using good audio.\n",
        "\n",
        "We then generate spectrograms of each word. We mix in background noise with the words to make it a more realistic audio sample."
      ]
    },
    {
      "cell_type": "code",
      "execution_count": 1,
      "metadata": {
        "id": "rvfrcR1b_jUN"
      },
      "outputs": [
        {
          "name": "stdout",
          "output_type": "stream",
          "text": [
            "--2022-07-13 20:36:14--  http://download.tensorflow.org/data/speech_commands_v0.02.tar.gz\n",
            "Resolving download.tensorflow.org (download.tensorflow.org)... 172.217.163.48, 2404:6800:4012:4::2010\n",
            "Connecting to download.tensorflow.org (download.tensorflow.org)|172.217.163.48|:80... connected.\n",
            "HTTP request sent, awaiting response... 200 OK\n",
            "Length: 2428923189 (2.3G) [application/gzip]\n",
            "Saving to: ‘speech_commands_v0.02.tar.gz’\n",
            "\n",
            "speech_commands_v0. 100%[===================>]   2.26G  51.0MB/s    in 46s     \n",
            "\n",
            "2022-07-13 20:37:01 (50.2 MB/s) - ‘speech_commands_v0.02.tar.gz’ saved [2428923189/2428923189]\n",
            "\n"
          ]
        }
      ],
      "source": [
        "!wget http://download.tensorflow.org/data/speech_commands_v0.02.tar.gz\n",
        "!mkdir speech_data\n",
        "!tar -xzf speech_commands_v0.02.tar.gz -C speech_data"
      ]
    },
    {
      "cell_type": "code",
      "execution_count": 1,
      "metadata": {
        "id": "QeHoru3B4JFO"
      },
      "outputs": [],
      "source": [
        "import tensorflow as tf\n",
        "import numpy as np\n",
        "from tensorflow.io import gfile\n",
        "import tensorflow_io as tfio\n",
        "from tqdm.notebook import tqdm\n",
        "import matplotlib.pyplot as plt\n",
        "from tensorflow.python.ops import gen_audio_ops as audio_ops"
      ]
    },
    {
      "cell_type": "code",
      "execution_count": 2,
      "metadata": {
        "id": "uHHfDOd_4JFQ"
      },
      "outputs": [],
      "source": [
        "SPEECH_DATA='speech_data'"
      ]
    },
    {
      "cell_type": "code",
      "execution_count": 3,
      "metadata": {
        "id": "CW0xZmgu4JFQ"
      },
      "outputs": [],
      "source": [
        "# The audio is all sampled at 16KHz and should all be 1 second in length - so 1 second is 16000 samples\n",
        "EXPECTED_SAMPLES=16000\n",
        "# Noise floor to detect if any audio is present\n",
        "NOISE_FLOOR=0.1\n",
        "# How many samples should be abover the noise floor?\n",
        "MINIMUM_VOICE_LENGTH=EXPECTED_SAMPLES/4"
      ]
    },
    {
      "cell_type": "code",
      "execution_count": 16,
      "metadata": {
        "id": "gXHIzBGZ4JFQ"
      },
      "outputs": [],
      "source": [
        "# list of folders we want to process in the speech_data folder\n",
        "command_words = (\n",
        "    'forward',\n",
        "    'backward',\n",
        "    'left',\n",
        "    'right',\n",
        "    '_invalid',\n",
        ")\n",
        "\n",
        "repeat_times = {\n",
        "    'forward': 25,\n",
        "    'backward': 25,\n",
        "    'left': 10,\n",
        "    'right': 10,\n",
        "    '_invalid': 1,\n",
        "}\n",
        "\n",
        "nonsense_words = [\n",
        "    'up',\n",
        "    'down',\n",
        "    'follow',\n",
        "    'stop',\n",
        "    'go',\n",
        "    'on',\n",
        "    'off',\n",
        "    'learn',\n",
        "    'yes',\n",
        "    'no',\n",
        "    'zero',\n",
        "    'one',\n",
        "    'two',\n",
        "    'three',\n",
        "    'four',\n",
        "    'five',\n",
        "    'six',\n",
        "    'seven',\n",
        "    'eight',\n",
        "    'nine',\n",
        "    'tree',\n",
        "    'bed',\n",
        "    'bird',\n",
        "    'cat',\n",
        "    'dog',\n",
        "    'happy',\n",
        "    'house',\n",
        "    'marvin',\n",
        "    'sheila',\n",
        "    'visual',\n",
        "    'wow',\n",
        "]"
      ]
    },
    {
      "cell_type": "code",
      "execution_count": 18,
      "metadata": {},
      "outputs": [
        {
          "name": "stdout",
          "output_type": "stream",
          "text": [
            "forward: 38925\n",
            "backward: 41600\n",
            "left: 38010\n",
            "right: 37780\n",
            "_invalid: 0\n"
          ]
        }
      ],
      "source": [
        "word_count = {}\n",
        "for word in command_words:\n",
        "    files = get_files(word)\n",
        "    word_count[word] = len(files)\n",
        "\n",
        "for word in command_words:\n",
        "    print(f'{word}: {word_count[word] * repeat_times[word]}')"
      ]
    },
    {
      "cell_type": "code",
      "execution_count": 19,
      "metadata": {
        "id": "sPVh0v6S4JFR"
      },
      "outputs": [],
      "source": [
        "# get all the files in a directory\n",
        "def get_files(word):\n",
        "    return gfile.glob(SPEECH_DATA + '/'+word+'/*.wav')\n",
        "\n",
        "# get the location of the voice\n",
        "def get_voice_position(audio, noise_floor):\n",
        "    audio = audio - np.mean(audio)\n",
        "    audio = audio / np.max(np.abs(audio))\n",
        "    return tfio.audio.trim(audio, axis=0, epsilon=noise_floor)\n",
        "\n",
        "# Work out how much of the audio file is actually voice\n",
        "def get_voice_length(audio, noise_floor):\n",
        "    position = get_voice_position(audio, noise_floor)\n",
        "    return (position[1] - position[0]).numpy()\n",
        "\n",
        "# is enough voice present?\n",
        "def is_voice_present(audio, noise_floor, required_length):\n",
        "    voice_length = get_voice_length(audio, noise_floor)\n",
        "    return voice_length >= required_length\n",
        "\n",
        "# is the audio the correct length?\n",
        "def is_correct_length(audio, expected_length):\n",
        "    return (audio.shape[0]==expected_length).numpy()\n",
        "\n",
        "\n",
        "def is_valid_file(file_name):\n",
        "    # load the audio file\n",
        "    audio_tensor = tfio.audio.AudioIOTensor(file_name)\n",
        "    # check the file is long enough\n",
        "    if not is_correct_length(audio_tensor, EXPECTED_SAMPLES):\n",
        "        return False\n",
        "    # convert the audio to an array of floats and scale it to betweem -1 and 1\n",
        "    audio = tf.cast(audio_tensor[:], tf.float32)\n",
        "    audio = audio - np.mean(audio)\n",
        "    audio = audio / np.max(np.abs(audio))\n",
        "    # is there any voice in the audio?\n",
        "    if not is_voice_present(audio, NOISE_FLOOR, MINIMUM_VOICE_LENGTH):\n",
        "        return False\n",
        "    return True\n"
      ]
    },
    {
      "cell_type": "code",
      "execution_count": 20,
      "metadata": {
        "id": "BfPQz_5U4JFS"
      },
      "outputs": [],
      "source": [
        "def get_spectrogram(audio):\n",
        "    # normalise the audio\n",
        "    audio = audio - np.mean(audio)\n",
        "    audio = audio / np.max(np.abs(audio))\n",
        "    # create the spectrogram\n",
        "    spectrogram = audio_ops.audio_spectrogram(audio,\n",
        "                                              window_size=320,\n",
        "                                              stride=160,\n",
        "                                              magnitude_squared=True).numpy()\n",
        "    # reduce the number of frequency bins in our spectrogram to a more sensible level\n",
        "    spectrogram = tf.nn.pool(\n",
        "        input=tf.expand_dims(spectrogram, -1),\n",
        "        window_shape=[1, 6],\n",
        "        strides=[1, 6],\n",
        "        pooling_type='AVG',\n",
        "        padding='SAME')\n",
        "    spectrogram = tf.squeeze(spectrogram, axis=0)\n",
        "    spectrogram = np.log10(spectrogram + 1e-6)\n",
        "    return spectrogram"
      ]
    },
    {
      "cell_type": "code",
      "execution_count": 21,
      "metadata": {
        "id": "AJNRg_ih4JFS"
      },
      "outputs": [],
      "source": [
        "# process a file into its spectrogram\n",
        "def process_file(file_path):\n",
        "    # load the audio file\n",
        "    audio_tensor = tfio.audio.AudioIOTensor(file_path)\n",
        "    # convert the audio to an array of floats and scale it to betweem -1 and 1\n",
        "    audio = tf.cast(audio_tensor[:], tf.float32)\n",
        "    audio = audio - np.mean(audio)\n",
        "    audio = audio / np.max(np.abs(audio))\n",
        "    # randomly reposition the audio in the sample\n",
        "    voice_start, voice_end = get_voice_position(audio, NOISE_FLOOR)\n",
        "    end_gap=len(audio) - voice_end\n",
        "    random_offset = np.random.uniform(0, voice_start+end_gap)\n",
        "    audio = np.roll(audio,-random_offset+end_gap)\n",
        "    # add some random background noise\n",
        "    background_volume = np.random.uniform(0, 0.1)\n",
        "    # get the background noise files\n",
        "    background_files = get_files('_background_noise_')\n",
        "    background_file = np.random.choice(background_files)\n",
        "    background_tensor = tfio.audio.AudioIOTensor(background_file)\n",
        "    background_start = np.random.randint(0, len(background_tensor) - 16000)\n",
        "    # normalise the background noise\n",
        "    background = tf.cast(background_tensor[background_start:background_start+16000], tf.float32)\n",
        "    background = background - np.mean(background)\n",
        "    background = background / np.max(np.abs(background))\n",
        "    # mix the audio with the scaled background\n",
        "    audio = audio + background_volume * background\n",
        "    # get the spectrogram\n",
        "    return get_spectrogram(audio)"
      ]
    },
    {
      "cell_type": "code",
      "execution_count": 22,
      "metadata": {
        "id": "ec5JYgqS4JFT"
      },
      "outputs": [],
      "source": [
        "train = []\n",
        "validate = []\n",
        "test = []\n",
        "\n",
        "TRAIN_SIZE=0.8\n",
        "VALIDATION_SIZE=0.1\n",
        "TEST_SIZE=0.1"
      ]
    },
    {
      "cell_type": "code",
      "execution_count": 23,
      "metadata": {
        "id": "XHszhHq_4JFU"
      },
      "outputs": [
        {
          "data": {
            "application/vnd.jupyter.widget-view+json": {
              "model_id": "7858ba9176e94735a9b5d8697080bd96",
              "version_major": 2,
              "version_minor": 0
            },
            "text/plain": [
              "Processing words:   0%|          | 0/5 [00:00<?, ?it/s]"
            ]
          },
          "metadata": {},
          "output_type": "display_data"
        },
        {
          "data": {
            "application/vnd.jupyter.widget-view+json": {
              "model_id": "1e167ed700a449198024586e20b6e79d",
              "version_major": 2,
              "version_minor": 0
            },
            "text/plain": [
              "Checking:   0%|          | 0/1557 [00:00<?, ?it/s]"
            ]
          },
          "metadata": {},
          "output_type": "display_data"
        },
        {
          "name": "stderr",
          "output_type": "stream",
          "text": [
            "2022-07-20 21:15:38.721866: I tensorflow_io/core/kernels/cpu_check.cc:128] Your CPU supports instructions that this TensorFlow IO binary was not compiled to use: AVX2 FMA\n",
            "2022-07-20 21:15:38.985501: I tensorflow/stream_executor/cuda/cuda_gpu_executor.cc:975] successful NUMA node read from SysFS had negative value (-1), but there must be at least one NUMA node, so returning NUMA node zero\n",
            "2022-07-20 21:15:38.989137: I tensorflow/stream_executor/cuda/cuda_gpu_executor.cc:975] successful NUMA node read from SysFS had negative value (-1), but there must be at least one NUMA node, so returning NUMA node zero\n",
            "2022-07-20 21:15:38.989320: I tensorflow/stream_executor/cuda/cuda_gpu_executor.cc:975] successful NUMA node read from SysFS had negative value (-1), but there must be at least one NUMA node, so returning NUMA node zero\n",
            "2022-07-20 21:15:38.990653: I tensorflow/core/platform/cpu_feature_guard.cc:193] This TensorFlow binary is optimized with oneAPI Deep Neural Network Library (oneDNN) to use the following CPU instructions in performance-critical operations:  AVX2 FMA\n",
            "To enable them in other operations, rebuild TensorFlow with the appropriate compiler flags.\n",
            "2022-07-20 21:15:38.991535: I tensorflow/stream_executor/cuda/cuda_gpu_executor.cc:975] successful NUMA node read from SysFS had negative value (-1), but there must be at least one NUMA node, so returning NUMA node zero\n",
            "2022-07-20 21:15:38.991699: I tensorflow/stream_executor/cuda/cuda_gpu_executor.cc:975] successful NUMA node read from SysFS had negative value (-1), but there must be at least one NUMA node, so returning NUMA node zero\n",
            "2022-07-20 21:15:38.991814: I tensorflow/stream_executor/cuda/cuda_gpu_executor.cc:975] successful NUMA node read from SysFS had negative value (-1), but there must be at least one NUMA node, so returning NUMA node zero\n",
            "2022-07-20 21:15:39.899458: I tensorflow/stream_executor/cuda/cuda_gpu_executor.cc:975] successful NUMA node read from SysFS had negative value (-1), but there must be at least one NUMA node, so returning NUMA node zero\n",
            "2022-07-20 21:15:39.899666: I tensorflow/stream_executor/cuda/cuda_gpu_executor.cc:975] successful NUMA node read from SysFS had negative value (-1), but there must be at least one NUMA node, so returning NUMA node zero\n",
            "2022-07-20 21:15:39.899802: I tensorflow/stream_executor/cuda/cuda_gpu_executor.cc:975] successful NUMA node read from SysFS had negative value (-1), but there must be at least one NUMA node, so returning NUMA node zero\n",
            "2022-07-20 21:15:39.899916: I tensorflow/core/common_runtime/gpu/gpu_device.cc:1532] Created device /job:localhost/replica:0/task:0/device:GPU:0 with 4655 MB memory:  -> device: 0, name: NVIDIA GeForce GTX 1660 Ti with Max-Q Design, pci bus id: 0000:01:00.0, compute capability: 7.5\n"
          ]
        },
        {
          "data": {
            "application/vnd.jupyter.widget-view+json": {
              "model_id": "8a1d2a968acf440a9958d3e3abd258c9",
              "version_major": 2,
              "version_minor": 0
            },
            "text/plain": [
              "forward (0):   0%|          | 0/27825 [00:00<?, ?it/s]"
            ]
          },
          "metadata": {},
          "output_type": "display_data"
        },
        {
          "name": "stderr",
          "output_type": "stream",
          "text": [
            "2022-07-20 21:15:46.641202: I tensorflow/stream_executor/cuda/cuda_dnn.cc:384] Loaded cuDNN version 8100\n"
          ]
        },
        {
          "data": {
            "application/vnd.jupyter.widget-view+json": {
              "model_id": "f43d95485ffc4585a5d2841d9b8c5735",
              "version_major": 2,
              "version_minor": 0
            },
            "text/plain": [
              "forward (0):   0%|          | 0/3475 [00:00<?, ?it/s]"
            ]
          },
          "metadata": {},
          "output_type": "display_data"
        },
        {
          "data": {
            "application/vnd.jupyter.widget-view+json": {
              "model_id": "81ca23bdd98b4132be7d68aca5f7ebe1",
              "version_major": 2,
              "version_minor": 0
            },
            "text/plain": [
              "forward (0):   0%|          | 0/3500 [00:00<?, ?it/s]"
            ]
          },
          "metadata": {},
          "output_type": "display_data"
        },
        {
          "data": {
            "application/vnd.jupyter.widget-view+json": {
              "model_id": "9c0ce26a6d68473b90c818b41cfe7c36",
              "version_major": 2,
              "version_minor": 0
            },
            "text/plain": [
              "Checking:   0%|          | 0/1664 [00:00<?, ?it/s]"
            ]
          },
          "metadata": {},
          "output_type": "display_data"
        },
        {
          "data": {
            "application/vnd.jupyter.widget-view+json": {
              "model_id": "80f1fe154a224c828966a7ae52d207d4",
              "version_major": 2,
              "version_minor": 0
            },
            "text/plain": [
              "backward (1):   0%|          | 0/30625 [00:00<?, ?it/s]"
            ]
          },
          "metadata": {},
          "output_type": "display_data"
        },
        {
          "data": {
            "application/vnd.jupyter.widget-view+json": {
              "model_id": "6bd9c5cd5759473596a4039723c811cf",
              "version_major": 2,
              "version_minor": 0
            },
            "text/plain": [
              "backward (1):   0%|          | 0/3825 [00:00<?, ?it/s]"
            ]
          },
          "metadata": {},
          "output_type": "display_data"
        },
        {
          "data": {
            "application/vnd.jupyter.widget-view+json": {
              "model_id": "4a81d2e790ce43489a8040e354f07ff8",
              "version_major": 2,
              "version_minor": 0
            },
            "text/plain": [
              "backward (1):   0%|          | 0/3850 [00:00<?, ?it/s]"
            ]
          },
          "metadata": {},
          "output_type": "display_data"
        },
        {
          "data": {
            "application/vnd.jupyter.widget-view+json": {
              "model_id": "e2485bc9959e42ce89a232022ade56f7",
              "version_major": 2,
              "version_minor": 0
            },
            "text/plain": [
              "Checking:   0%|          | 0/3801 [00:00<?, ?it/s]"
            ]
          },
          "metadata": {},
          "output_type": "display_data"
        },
        {
          "data": {
            "application/vnd.jupyter.widget-view+json": {
              "model_id": "958952e6c1d547c38ade81f9c771a012",
              "version_major": 2,
              "version_minor": 0
            },
            "text/plain": [
              "left (2):   0%|          | 0/18760 [00:00<?, ?it/s]"
            ]
          },
          "metadata": {},
          "output_type": "display_data"
        },
        {
          "data": {
            "application/vnd.jupyter.widget-view+json": {
              "model_id": "07b7d21651e34af3a0854b8299a4b084",
              "version_major": 2,
              "version_minor": 0
            },
            "text/plain": [
              "left (2):   0%|          | 0/2340 [00:00<?, ?it/s]"
            ]
          },
          "metadata": {},
          "output_type": "display_data"
        },
        {
          "data": {
            "application/vnd.jupyter.widget-view+json": {
              "model_id": "662a867fa83242119ff46a5adc7e0a5a",
              "version_major": 2,
              "version_minor": 0
            },
            "text/plain": [
              "left (2):   0%|          | 0/2350 [00:00<?, ?it/s]"
            ]
          },
          "metadata": {},
          "output_type": "display_data"
        },
        {
          "data": {
            "application/vnd.jupyter.widget-view+json": {
              "model_id": "21119f4c2e004f3598ac2a110ba0f0fb",
              "version_major": 2,
              "version_minor": 0
            },
            "text/plain": [
              "Checking:   0%|          | 0/3778 [00:00<?, ?it/s]"
            ]
          },
          "metadata": {},
          "output_type": "display_data"
        },
        {
          "data": {
            "application/vnd.jupyter.widget-view+json": {
              "model_id": "691e443fe914415d9f94ecb19bd53caa",
              "version_major": 2,
              "version_minor": 0
            },
            "text/plain": [
              "right (3):   0%|          | 0/21110 [00:00<?, ?it/s]"
            ]
          },
          "metadata": {},
          "output_type": "display_data"
        },
        {
          "data": {
            "application/vnd.jupyter.widget-view+json": {
              "model_id": "e61843f54fe148e3b4f70276ba72589a",
              "version_major": 2,
              "version_minor": 0
            },
            "text/plain": [
              "right (3):   0%|          | 0/2630 [00:00<?, ?it/s]"
            ]
          },
          "metadata": {},
          "output_type": "display_data"
        },
        {
          "data": {
            "application/vnd.jupyter.widget-view+json": {
              "model_id": "17e61973e88440d5ad7695d0e7e515c3",
              "version_major": 2,
              "version_minor": 0
            },
            "text/plain": [
              "right (3):   0%|          | 0/2650 [00:00<?, ?it/s]"
            ]
          },
          "metadata": {},
          "output_type": "display_data"
        },
        {
          "data": {
            "application/vnd.jupyter.widget-view+json": {
              "model_id": "6ed0df45440745a3b88b015cc7190499",
              "version_major": 2,
              "version_minor": 0
            },
            "text/plain": [
              "Processing words:   0%|          | 0/31 [00:00<?, ?it/s]"
            ]
          },
          "metadata": {},
          "output_type": "display_data"
        },
        {
          "data": {
            "application/vnd.jupyter.widget-view+json": {
              "model_id": "0036358edbc446299655e7f823f7e237",
              "version_major": 2,
              "version_minor": 0
            },
            "text/plain": [
              "Checking:   0%|          | 0/3723 [00:00<?, ?it/s]"
            ]
          },
          "metadata": {},
          "output_type": "display_data"
        },
        {
          "data": {
            "application/vnd.jupyter.widget-view+json": {
              "model_id": "9a9c3577c0af4660bffdbc634411d072",
              "version_major": 2,
              "version_minor": 0
            },
            "text/plain": [
              "up (4):   0%|          | 0/790 [00:00<?, ?it/s]"
            ]
          },
          "metadata": {},
          "output_type": "display_data"
        },
        {
          "data": {
            "application/vnd.jupyter.widget-view+json": {
              "model_id": "9a9a6be707b748e4ab0e5766227c20f0",
              "version_major": 2,
              "version_minor": 0
            },
            "text/plain": [
              "up (4):   0%|          | 0/98 [00:00<?, ?it/s]"
            ]
          },
          "metadata": {},
          "output_type": "display_data"
        },
        {
          "data": {
            "application/vnd.jupyter.widget-view+json": {
              "model_id": "929711d3620e4a78b91487ee9ee1580a",
              "version_major": 2,
              "version_minor": 0
            },
            "text/plain": [
              "up (4):   0%|          | 0/100 [00:00<?, ?it/s]"
            ]
          },
          "metadata": {},
          "output_type": "display_data"
        },
        {
          "data": {
            "application/vnd.jupyter.widget-view+json": {
              "model_id": "8963a6ad73434fa28bf0679c561f8d74",
              "version_major": 2,
              "version_minor": 0
            },
            "text/plain": [
              "Checking:   0%|          | 0/3917 [00:00<?, ?it/s]"
            ]
          },
          "metadata": {},
          "output_type": "display_data"
        },
        {
          "data": {
            "application/vnd.jupyter.widget-view+json": {
              "model_id": "fb35979853f64580a1a878b989f4fc2d",
              "version_major": 2,
              "version_minor": 0
            },
            "text/plain": [
              "down (4):   0%|          | 0/2623 [00:00<?, ?it/s]"
            ]
          },
          "metadata": {},
          "output_type": "display_data"
        },
        {
          "data": {
            "application/vnd.jupyter.widget-view+json": {
              "model_id": "463f0ed9630541d0887e9d4a973f2398",
              "version_major": 2,
              "version_minor": 0
            },
            "text/plain": [
              "down (4):   0%|          | 0/327 [00:00<?, ?it/s]"
            ]
          },
          "metadata": {},
          "output_type": "display_data"
        },
        {
          "data": {
            "application/vnd.jupyter.widget-view+json": {
              "model_id": "739e72d8f6734c829c33aa4da777ea35",
              "version_major": 2,
              "version_minor": 0
            },
            "text/plain": [
              "down (4):   0%|          | 0/329 [00:00<?, ?it/s]"
            ]
          },
          "metadata": {},
          "output_type": "display_data"
        },
        {
          "data": {
            "application/vnd.jupyter.widget-view+json": {
              "model_id": "4349c26704624f50b25146c0e7cea0dc",
              "version_major": 2,
              "version_minor": 0
            },
            "text/plain": [
              "Checking:   0%|          | 0/1579 [00:00<?, ?it/s]"
            ]
          },
          "metadata": {},
          "output_type": "display_data"
        },
        {
          "data": {
            "application/vnd.jupyter.widget-view+json": {
              "model_id": "1d34cf9199db4beba90dbc41ecdf1418",
              "version_major": 2,
              "version_minor": 0
            },
            "text/plain": [
              "follow (4):   0%|          | 0/1063 [00:00<?, ?it/s]"
            ]
          },
          "metadata": {},
          "output_type": "display_data"
        },
        {
          "data": {
            "application/vnd.jupyter.widget-view+json": {
              "model_id": "464bb51d98d348e0b55767f3ececdc0d",
              "version_major": 2,
              "version_minor": 0
            },
            "text/plain": [
              "follow (4):   0%|          | 0/132 [00:00<?, ?it/s]"
            ]
          },
          "metadata": {},
          "output_type": "display_data"
        },
        {
          "data": {
            "application/vnd.jupyter.widget-view+json": {
              "model_id": "5037dacceec846d6b4219084e02e7b4f",
              "version_major": 2,
              "version_minor": 0
            },
            "text/plain": [
              "follow (4):   0%|          | 0/134 [00:00<?, ?it/s]"
            ]
          },
          "metadata": {},
          "output_type": "display_data"
        },
        {
          "data": {
            "application/vnd.jupyter.widget-view+json": {
              "model_id": "8262a38421c04678beb23a0b4bee79c4",
              "version_major": 2,
              "version_minor": 0
            },
            "text/plain": [
              "Checking:   0%|          | 0/3872 [00:00<?, ?it/s]"
            ]
          },
          "metadata": {},
          "output_type": "display_data"
        },
        {
          "data": {
            "application/vnd.jupyter.widget-view+json": {
              "model_id": "293455923d1f4b9690579f19676ba01e",
              "version_major": 2,
              "version_minor": 0
            },
            "text/plain": [
              "stop (4):   0%|          | 0/2001 [00:00<?, ?it/s]"
            ]
          },
          "metadata": {},
          "output_type": "display_data"
        },
        {
          "data": {
            "application/vnd.jupyter.widget-view+json": {
              "model_id": "973c07af9ac247a3aa76427d3ec373ab",
              "version_major": 2,
              "version_minor": 0
            },
            "text/plain": [
              "stop (4):   0%|          | 0/250 [00:00<?, ?it/s]"
            ]
          },
          "metadata": {},
          "output_type": "display_data"
        },
        {
          "data": {
            "application/vnd.jupyter.widget-view+json": {
              "model_id": "8c98517b5fb64e81ac11d73f5bdaff5a",
              "version_major": 2,
              "version_minor": 0
            },
            "text/plain": [
              "stop (4):   0%|          | 0/251 [00:00<?, ?it/s]"
            ]
          },
          "metadata": {},
          "output_type": "display_data"
        },
        {
          "data": {
            "application/vnd.jupyter.widget-view+json": {
              "model_id": "727be2e623e24240bdfa5a6fcd045e4c",
              "version_major": 2,
              "version_minor": 0
            },
            "text/plain": [
              "Checking:   0%|          | 0/3880 [00:00<?, ?it/s]"
            ]
          },
          "metadata": {},
          "output_type": "display_data"
        },
        {
          "data": {
            "application/vnd.jupyter.widget-view+json": {
              "model_id": "45d12bf1e5b94f828da65af9772ef4b7",
              "version_major": 2,
              "version_minor": 0
            },
            "text/plain": [
              "go (4):   0%|          | 0/2157 [00:00<?, ?it/s]"
            ]
          },
          "metadata": {},
          "output_type": "display_data"
        },
        {
          "data": {
            "application/vnd.jupyter.widget-view+json": {
              "model_id": "63fbe4d299d347a0b98a7f95aeba78a4",
              "version_major": 2,
              "version_minor": 0
            },
            "text/plain": [
              "go (4):   0%|          | 0/269 [00:00<?, ?it/s]"
            ]
          },
          "metadata": {},
          "output_type": "display_data"
        },
        {
          "data": {
            "application/vnd.jupyter.widget-view+json": {
              "model_id": "b6b0e8eacf274cc7b556913d37d00201",
              "version_major": 2,
              "version_minor": 0
            },
            "text/plain": [
              "go (4):   0%|          | 0/271 [00:00<?, ?it/s]"
            ]
          },
          "metadata": {},
          "output_type": "display_data"
        },
        {
          "data": {
            "application/vnd.jupyter.widget-view+json": {
              "model_id": "c4d7909a93814c53816562688667d15f",
              "version_major": 2,
              "version_minor": 0
            },
            "text/plain": [
              "Checking:   0%|          | 0/3845 [00:00<?, ?it/s]"
            ]
          },
          "metadata": {},
          "output_type": "display_data"
        },
        {
          "data": {
            "application/vnd.jupyter.widget-view+json": {
              "model_id": "d14d58cfabbb435c95e79b1d34372781",
              "version_major": 2,
              "version_minor": 0
            },
            "text/plain": [
              "on (4):   0%|          | 0/2390 [00:00<?, ?it/s]"
            ]
          },
          "metadata": {},
          "output_type": "display_data"
        },
        {
          "data": {
            "application/vnd.jupyter.widget-view+json": {
              "model_id": "81477ecc793c4007923ac90bcffeda23",
              "version_major": 2,
              "version_minor": 0
            },
            "text/plain": [
              "on (4):   0%|          | 0/298 [00:00<?, ?it/s]"
            ]
          },
          "metadata": {},
          "output_type": "display_data"
        },
        {
          "data": {
            "application/vnd.jupyter.widget-view+json": {
              "model_id": "8e73bb1201c145488a163a50c37970ab",
              "version_major": 2,
              "version_minor": 0
            },
            "text/plain": [
              "on (4):   0%|          | 0/300 [00:00<?, ?it/s]"
            ]
          },
          "metadata": {},
          "output_type": "display_data"
        },
        {
          "data": {
            "application/vnd.jupyter.widget-view+json": {
              "model_id": "e57435e2d46e4afdac2bf3d0932469ae",
              "version_major": 2,
              "version_minor": 0
            },
            "text/plain": [
              "Checking:   0%|          | 0/3745 [00:00<?, ?it/s]"
            ]
          },
          "metadata": {},
          "output_type": "display_data"
        },
        {
          "data": {
            "application/vnd.jupyter.widget-view+json": {
              "model_id": "77764961696649438adf9774957e9ef7",
              "version_major": 2,
              "version_minor": 0
            },
            "text/plain": [
              "off (4):   0%|          | 0/1188 [00:00<?, ?it/s]"
            ]
          },
          "metadata": {},
          "output_type": "display_data"
        },
        {
          "data": {
            "application/vnd.jupyter.widget-view+json": {
              "model_id": "7c81899b763f4734aa671869c41763c7",
              "version_major": 2,
              "version_minor": 0
            },
            "text/plain": [
              "off (4):   0%|          | 0/148 [00:00<?, ?it/s]"
            ]
          },
          "metadata": {},
          "output_type": "display_data"
        },
        {
          "data": {
            "application/vnd.jupyter.widget-view+json": {
              "model_id": "7b184c6d496d4216b7cff72ec78952fc",
              "version_major": 2,
              "version_minor": 0
            },
            "text/plain": [
              "off (4):   0%|          | 0/150 [00:00<?, ?it/s]"
            ]
          },
          "metadata": {},
          "output_type": "display_data"
        },
        {
          "data": {
            "application/vnd.jupyter.widget-view+json": {
              "model_id": "77741faedff74f639bd37ed8c60baa20",
              "version_major": 2,
              "version_minor": 0
            },
            "text/plain": [
              "Checking:   0%|          | 0/1575 [00:00<?, ?it/s]"
            ]
          },
          "metadata": {},
          "output_type": "display_data"
        },
        {
          "data": {
            "application/vnd.jupyter.widget-view+json": {
              "model_id": "cb3f9ab80494480b828af7c719ceb6c7",
              "version_major": 2,
              "version_minor": 0
            },
            "text/plain": [
              "learn (4):   0%|          | 0/1096 [00:00<?, ?it/s]"
            ]
          },
          "metadata": {},
          "output_type": "display_data"
        },
        {
          "data": {
            "application/vnd.jupyter.widget-view+json": {
              "model_id": "b726c65b20654052811383b437194a05",
              "version_major": 2,
              "version_minor": 0
            },
            "text/plain": [
              "learn (4):   0%|          | 0/137 [00:00<?, ?it/s]"
            ]
          },
          "metadata": {},
          "output_type": "display_data"
        },
        {
          "data": {
            "application/vnd.jupyter.widget-view+json": {
              "model_id": "30f63d4736de4dc190f5cba0e859eff8",
              "version_major": 2,
              "version_minor": 0
            },
            "text/plain": [
              "learn (4):   0%|          | 0/137 [00:00<?, ?it/s]"
            ]
          },
          "metadata": {},
          "output_type": "display_data"
        },
        {
          "data": {
            "application/vnd.jupyter.widget-view+json": {
              "model_id": "afa6cfe308834ef89fb555c55d8059d9",
              "version_major": 2,
              "version_minor": 0
            },
            "text/plain": [
              "Checking:   0%|          | 0/4044 [00:00<?, ?it/s]"
            ]
          },
          "metadata": {},
          "output_type": "display_data"
        },
        {
          "data": {
            "application/vnd.jupyter.widget-view+json": {
              "model_id": "4b0819d7338d4e079bdb83a6e8bca351",
              "version_major": 2,
              "version_minor": 0
            },
            "text/plain": [
              "yes (4):   0%|          | 0/2364 [00:00<?, ?it/s]"
            ]
          },
          "metadata": {},
          "output_type": "display_data"
        },
        {
          "data": {
            "application/vnd.jupyter.widget-view+json": {
              "model_id": "a3968d5151eb46b0bb46671af75322dd",
              "version_major": 2,
              "version_minor": 0
            },
            "text/plain": [
              "yes (4):   0%|          | 0/295 [00:00<?, ?it/s]"
            ]
          },
          "metadata": {},
          "output_type": "display_data"
        },
        {
          "data": {
            "application/vnd.jupyter.widget-view+json": {
              "model_id": "0e94eb129cef4ef3bc87f7c9f96d153f",
              "version_major": 2,
              "version_minor": 0
            },
            "text/plain": [
              "yes (4):   0%|          | 0/297 [00:00<?, ?it/s]"
            ]
          },
          "metadata": {},
          "output_type": "display_data"
        },
        {
          "data": {
            "application/vnd.jupyter.widget-view+json": {
              "model_id": "be63fd03b5ae40eda8dd3233c08a7aea",
              "version_major": 2,
              "version_minor": 0
            },
            "text/plain": [
              "Checking:   0%|          | 0/3941 [00:00<?, ?it/s]"
            ]
          },
          "metadata": {},
          "output_type": "display_data"
        },
        {
          "data": {
            "application/vnd.jupyter.widget-view+json": {
              "model_id": "b51c5305f8b04bf1a1550f917c088148",
              "version_major": 2,
              "version_minor": 0
            },
            "text/plain": [
              "no (4):   0%|          | 0/2464 [00:00<?, ?it/s]"
            ]
          },
          "metadata": {},
          "output_type": "display_data"
        },
        {
          "data": {
            "application/vnd.jupyter.widget-view+json": {
              "model_id": "7c146bc329544c18926ad3a918e6dcd5",
              "version_major": 2,
              "version_minor": 0
            },
            "text/plain": [
              "no (4):   0%|          | 0/308 [00:00<?, ?it/s]"
            ]
          },
          "metadata": {},
          "output_type": "display_data"
        },
        {
          "data": {
            "application/vnd.jupyter.widget-view+json": {
              "model_id": "9aead421efa746bf8867cfd2f2a14447",
              "version_major": 2,
              "version_minor": 0
            },
            "text/plain": [
              "no (4):   0%|          | 0/309 [00:00<?, ?it/s]"
            ]
          },
          "metadata": {},
          "output_type": "display_data"
        },
        {
          "data": {
            "application/vnd.jupyter.widget-view+json": {
              "model_id": "23706fb746a748a39bee12953f8d4b81",
              "version_major": 2,
              "version_minor": 0
            },
            "text/plain": [
              "Checking:   0%|          | 0/4052 [00:00<?, ?it/s]"
            ]
          },
          "metadata": {},
          "output_type": "display_data"
        },
        {
          "data": {
            "application/vnd.jupyter.widget-view+json": {
              "model_id": "50ed1ed43d06491fbff025d1cf2dc94c",
              "version_major": 2,
              "version_minor": 0
            },
            "text/plain": [
              "zero (4):   0%|          | 0/2957 [00:00<?, ?it/s]"
            ]
          },
          "metadata": {},
          "output_type": "display_data"
        },
        {
          "data": {
            "application/vnd.jupyter.widget-view+json": {
              "model_id": "aa5f0bbe0ec34a71a4f1bddbe1622d65",
              "version_major": 2,
              "version_minor": 0
            },
            "text/plain": [
              "zero (4):   0%|          | 0/369 [00:00<?, ?it/s]"
            ]
          },
          "metadata": {},
          "output_type": "display_data"
        },
        {
          "data": {
            "application/vnd.jupyter.widget-view+json": {
              "model_id": "d3a5e59956c04a9da642a49f51118b52",
              "version_major": 2,
              "version_minor": 0
            },
            "text/plain": [
              "zero (4):   0%|          | 0/371 [00:00<?, ?it/s]"
            ]
          },
          "metadata": {},
          "output_type": "display_data"
        },
        {
          "data": {
            "application/vnd.jupyter.widget-view+json": {
              "model_id": "9c0baaddd946446ea764c72cc0163da8",
              "version_major": 2,
              "version_minor": 0
            },
            "text/plain": [
              "Checking:   0%|          | 0/3890 [00:00<?, ?it/s]"
            ]
          },
          "metadata": {},
          "output_type": "display_data"
        },
        {
          "data": {
            "application/vnd.jupyter.widget-view+json": {
              "model_id": "8c77c0ca0dc2407881fe28b5c4c0bfdc",
              "version_major": 2,
              "version_minor": 0
            },
            "text/plain": [
              "one (4):   0%|          | 0/2324 [00:00<?, ?it/s]"
            ]
          },
          "metadata": {},
          "output_type": "display_data"
        },
        {
          "data": {
            "application/vnd.jupyter.widget-view+json": {
              "model_id": "1f29840510be4b3dbec4b3043c183bd2",
              "version_major": 2,
              "version_minor": 0
            },
            "text/plain": [
              "one (4):   0%|          | 0/290 [00:00<?, ?it/s]"
            ]
          },
          "metadata": {},
          "output_type": "display_data"
        },
        {
          "data": {
            "application/vnd.jupyter.widget-view+json": {
              "model_id": "64f12d3a7ec44984977bdcc0eb7e305a",
              "version_major": 2,
              "version_minor": 0
            },
            "text/plain": [
              "one (4):   0%|          | 0/292 [00:00<?, ?it/s]"
            ]
          },
          "metadata": {},
          "output_type": "display_data"
        },
        {
          "data": {
            "application/vnd.jupyter.widget-view+json": {
              "model_id": "4be0fc78b0c244b28dea1fb87792d688",
              "version_major": 2,
              "version_minor": 0
            },
            "text/plain": [
              "Checking:   0%|          | 0/3880 [00:00<?, ?it/s]"
            ]
          },
          "metadata": {},
          "output_type": "display_data"
        },
        {
          "data": {
            "application/vnd.jupyter.widget-view+json": {
              "model_id": "9c4194f12efd497b97e828ef9c2fac3a",
              "version_major": 2,
              "version_minor": 0
            },
            "text/plain": [
              "two (4):   0%|          | 0/2164 [00:00<?, ?it/s]"
            ]
          },
          "metadata": {},
          "output_type": "display_data"
        },
        {
          "data": {
            "application/vnd.jupyter.widget-view+json": {
              "model_id": "00daacb4b9ca4c67b9dbae74d4669a86",
              "version_major": 2,
              "version_minor": 0
            },
            "text/plain": [
              "two (4):   0%|          | 0/270 [00:00<?, ?it/s]"
            ]
          },
          "metadata": {},
          "output_type": "display_data"
        },
        {
          "data": {
            "application/vnd.jupyter.widget-view+json": {
              "model_id": "06dac194b76e427ea5cdfbd63b122321",
              "version_major": 2,
              "version_minor": 0
            },
            "text/plain": [
              "two (4):   0%|          | 0/271 [00:00<?, ?it/s]"
            ]
          },
          "metadata": {},
          "output_type": "display_data"
        },
        {
          "data": {
            "application/vnd.jupyter.widget-view+json": {
              "model_id": "b5977962a902481da922e739d37bbd5e",
              "version_major": 2,
              "version_minor": 0
            },
            "text/plain": [
              "Checking:   0%|          | 0/3727 [00:00<?, ?it/s]"
            ]
          },
          "metadata": {},
          "output_type": "display_data"
        },
        {
          "data": {
            "application/vnd.jupyter.widget-view+json": {
              "model_id": "e279d51242b14cc49ba26ee78eaf66a1",
              "version_major": 2,
              "version_minor": 0
            },
            "text/plain": [
              "three (4):   0%|          | 0/2276 [00:00<?, ?it/s]"
            ]
          },
          "metadata": {},
          "output_type": "display_data"
        },
        {
          "data": {
            "application/vnd.jupyter.widget-view+json": {
              "model_id": "94ca5310d5d64f62906ea6e2768832bf",
              "version_major": 2,
              "version_minor": 0
            },
            "text/plain": [
              "three (4):   0%|          | 0/284 [00:00<?, ?it/s]"
            ]
          },
          "metadata": {},
          "output_type": "display_data"
        },
        {
          "data": {
            "application/vnd.jupyter.widget-view+json": {
              "model_id": "92311837aff640ee91910cf6d13eec96",
              "version_major": 2,
              "version_minor": 0
            },
            "text/plain": [
              "three (4):   0%|          | 0/286 [00:00<?, ?it/s]"
            ]
          },
          "metadata": {},
          "output_type": "display_data"
        },
        {
          "data": {
            "application/vnd.jupyter.widget-view+json": {
              "model_id": "c7cffef1fc0743b087e15fa728674497",
              "version_major": 2,
              "version_minor": 0
            },
            "text/plain": [
              "Checking:   0%|          | 0/3728 [00:00<?, ?it/s]"
            ]
          },
          "metadata": {},
          "output_type": "display_data"
        },
        {
          "data": {
            "application/vnd.jupyter.widget-view+json": {
              "model_id": "7fb077f9372248bf9d3abbf6e65af566",
              "version_major": 2,
              "version_minor": 0
            },
            "text/plain": [
              "four (4):   0%|          | 0/2250 [00:00<?, ?it/s]"
            ]
          },
          "metadata": {},
          "output_type": "display_data"
        },
        {
          "data": {
            "application/vnd.jupyter.widget-view+json": {
              "model_id": "f730a3eb13644783805c33815f31b1a7",
              "version_major": 2,
              "version_minor": 0
            },
            "text/plain": [
              "four (4):   0%|          | 0/281 [00:00<?, ?it/s]"
            ]
          },
          "metadata": {},
          "output_type": "display_data"
        },
        {
          "data": {
            "application/vnd.jupyter.widget-view+json": {
              "model_id": "431f708370144606af1dc1fd7d88f254",
              "version_major": 2,
              "version_minor": 0
            },
            "text/plain": [
              "four (4):   0%|          | 0/282 [00:00<?, ?it/s]"
            ]
          },
          "metadata": {},
          "output_type": "display_data"
        },
        {
          "data": {
            "application/vnd.jupyter.widget-view+json": {
              "model_id": "76d68d3e1c0e4941b50a1cfae4f7396e",
              "version_major": 2,
              "version_minor": 0
            },
            "text/plain": [
              "Checking:   0%|          | 0/4052 [00:00<?, ?it/s]"
            ]
          },
          "metadata": {},
          "output_type": "display_data"
        },
        {
          "data": {
            "application/vnd.jupyter.widget-view+json": {
              "model_id": "578e2aaa613143f0a82e55ed9faa27b9",
              "version_major": 2,
              "version_minor": 0
            },
            "text/plain": [
              "five (4):   0%|          | 0/2376 [00:00<?, ?it/s]"
            ]
          },
          "metadata": {},
          "output_type": "display_data"
        },
        {
          "data": {
            "application/vnd.jupyter.widget-view+json": {
              "model_id": "161b1842c9fc4f039f9cd770ba2c2467",
              "version_major": 2,
              "version_minor": 0
            },
            "text/plain": [
              "five (4):   0%|          | 0/297 [00:00<?, ?it/s]"
            ]
          },
          "metadata": {},
          "output_type": "display_data"
        },
        {
          "data": {
            "application/vnd.jupyter.widget-view+json": {
              "model_id": "0445c52a03fc496680ed8fdf096f34ac",
              "version_major": 2,
              "version_minor": 0
            },
            "text/plain": [
              "five (4):   0%|          | 0/297 [00:00<?, ?it/s]"
            ]
          },
          "metadata": {},
          "output_type": "display_data"
        },
        {
          "data": {
            "application/vnd.jupyter.widget-view+json": {
              "model_id": "270cc1e576004e3fb3d07a55cc6c4cb6",
              "version_major": 2,
              "version_minor": 0
            },
            "text/plain": [
              "Checking:   0%|          | 0/3860 [00:00<?, ?it/s]"
            ]
          },
          "metadata": {},
          "output_type": "display_data"
        },
        {
          "data": {
            "application/vnd.jupyter.widget-view+json": {
              "model_id": "9d7348dd2a794bf9958d1b39099a6130",
              "version_major": 2,
              "version_minor": 0
            },
            "text/plain": [
              "six (4):   0%|          | 0/2321 [00:00<?, ?it/s]"
            ]
          },
          "metadata": {},
          "output_type": "display_data"
        },
        {
          "data": {
            "application/vnd.jupyter.widget-view+json": {
              "model_id": "57146719b3b64c22b4807bf4ee7fd143",
              "version_major": 2,
              "version_minor": 0
            },
            "text/plain": [
              "six (4):   0%|          | 0/290 [00:00<?, ?it/s]"
            ]
          },
          "metadata": {},
          "output_type": "display_data"
        },
        {
          "data": {
            "application/vnd.jupyter.widget-view+json": {
              "model_id": "dbce70f749ae417983ebf0ba7d9dd302",
              "version_major": 2,
              "version_minor": 0
            },
            "text/plain": [
              "six (4):   0%|          | 0/291 [00:00<?, ?it/s]"
            ]
          },
          "metadata": {},
          "output_type": "display_data"
        },
        {
          "data": {
            "application/vnd.jupyter.widget-view+json": {
              "model_id": "159491df65c2474a89dcffa9f274ce2c",
              "version_major": 2,
              "version_minor": 0
            },
            "text/plain": [
              "Checking:   0%|          | 0/3998 [00:00<?, ?it/s]"
            ]
          },
          "metadata": {},
          "output_type": "display_data"
        },
        {
          "data": {
            "application/vnd.jupyter.widget-view+json": {
              "model_id": "273604004fec4ef9bd9631b04d45e9c1",
              "version_major": 2,
              "version_minor": 0
            },
            "text/plain": [
              "seven (4):   0%|          | 0/2753 [00:00<?, ?it/s]"
            ]
          },
          "metadata": {},
          "output_type": "display_data"
        },
        {
          "data": {
            "application/vnd.jupyter.widget-view+json": {
              "model_id": "4f42f09e3404458ab2e97bfaeda60193",
              "version_major": 2,
              "version_minor": 0
            },
            "text/plain": [
              "seven (4):   0%|          | 0/344 [00:00<?, ?it/s]"
            ]
          },
          "metadata": {},
          "output_type": "display_data"
        },
        {
          "data": {
            "application/vnd.jupyter.widget-view+json": {
              "model_id": "dec424a1b62549bcbc160423cd62d2a6",
              "version_major": 2,
              "version_minor": 0
            },
            "text/plain": [
              "seven (4):   0%|          | 0/345 [00:00<?, ?it/s]"
            ]
          },
          "metadata": {},
          "output_type": "display_data"
        },
        {
          "data": {
            "application/vnd.jupyter.widget-view+json": {
              "model_id": "8223f389466a437688a8842b1fecb8c2",
              "version_major": 2,
              "version_minor": 0
            },
            "text/plain": [
              "Checking:   0%|          | 0/3787 [00:00<?, ?it/s]"
            ]
          },
          "metadata": {},
          "output_type": "display_data"
        },
        {
          "data": {
            "application/vnd.jupyter.widget-view+json": {
              "model_id": "25329a5707e14feab68c916fac63ab8d",
              "version_major": 2,
              "version_minor": 0
            },
            "text/plain": [
              "eight (4):   0%|          | 0/1858 [00:00<?, ?it/s]"
            ]
          },
          "metadata": {},
          "output_type": "display_data"
        },
        {
          "data": {
            "application/vnd.jupyter.widget-view+json": {
              "model_id": "17776c9ace8549b2bb89097a93d93923",
              "version_major": 2,
              "version_minor": 0
            },
            "text/plain": [
              "eight (4):   0%|          | 0/232 [00:00<?, ?it/s]"
            ]
          },
          "metadata": {},
          "output_type": "display_data"
        },
        {
          "data": {
            "application/vnd.jupyter.widget-view+json": {
              "model_id": "5b0a28b38d3844b69952e9b9b13baa22",
              "version_major": 2,
              "version_minor": 0
            },
            "text/plain": [
              "eight (4):   0%|          | 0/233 [00:00<?, ?it/s]"
            ]
          },
          "metadata": {},
          "output_type": "display_data"
        },
        {
          "data": {
            "application/vnd.jupyter.widget-view+json": {
              "model_id": "40dc31d0fbcd45dabb6b8b858814b1f5",
              "version_major": 2,
              "version_minor": 0
            },
            "text/plain": [
              "Checking:   0%|          | 0/3934 [00:00<?, ?it/s]"
            ]
          },
          "metadata": {},
          "output_type": "display_data"
        },
        {
          "data": {
            "application/vnd.jupyter.widget-view+json": {
              "model_id": "4eb025b48f4a400fbc23d194f5f188a0",
              "version_major": 2,
              "version_minor": 0
            },
            "text/plain": [
              "nine (4):   0%|          | 0/2758 [00:00<?, ?it/s]"
            ]
          },
          "metadata": {},
          "output_type": "display_data"
        },
        {
          "data": {
            "application/vnd.jupyter.widget-view+json": {
              "model_id": "eb843df5d85144868d2773a65afcc2a0",
              "version_major": 2,
              "version_minor": 0
            },
            "text/plain": [
              "nine (4):   0%|          | 0/344 [00:00<?, ?it/s]"
            ]
          },
          "metadata": {},
          "output_type": "display_data"
        },
        {
          "data": {
            "application/vnd.jupyter.widget-view+json": {
              "model_id": "9259de6cbf844080ae34a1a1cf22e241",
              "version_major": 2,
              "version_minor": 0
            },
            "text/plain": [
              "nine (4):   0%|          | 0/346 [00:00<?, ?it/s]"
            ]
          },
          "metadata": {},
          "output_type": "display_data"
        },
        {
          "data": {
            "application/vnd.jupyter.widget-view+json": {
              "model_id": "ccfaf26e30564f3b89b7475fe0cb97fb",
              "version_major": 2,
              "version_minor": 0
            },
            "text/plain": [
              "Checking:   0%|          | 0/1759 [00:00<?, ?it/s]"
            ]
          },
          "metadata": {},
          "output_type": "display_data"
        },
        {
          "data": {
            "application/vnd.jupyter.widget-view+json": {
              "model_id": "66058d288b714855b221aae1e4087280",
              "version_major": 2,
              "version_minor": 0
            },
            "text/plain": [
              "tree (4):   0%|          | 0/1118 [00:00<?, ?it/s]"
            ]
          },
          "metadata": {},
          "output_type": "display_data"
        },
        {
          "data": {
            "application/vnd.jupyter.widget-view+json": {
              "model_id": "4aed45b8b219477983e71c93b93cd765",
              "version_major": 2,
              "version_minor": 0
            },
            "text/plain": [
              "tree (4):   0%|          | 0/139 [00:00<?, ?it/s]"
            ]
          },
          "metadata": {},
          "output_type": "display_data"
        },
        {
          "data": {
            "application/vnd.jupyter.widget-view+json": {
              "model_id": "376e9adaeae0477ab6fc37323fa57680",
              "version_major": 2,
              "version_minor": 0
            },
            "text/plain": [
              "tree (4):   0%|          | 0/141 [00:00<?, ?it/s]"
            ]
          },
          "metadata": {},
          "output_type": "display_data"
        },
        {
          "data": {
            "application/vnd.jupyter.widget-view+json": {
              "model_id": "fc8330e46c4f4d3d9a7d82c3c25a246f",
              "version_major": 2,
              "version_minor": 0
            },
            "text/plain": [
              "Checking:   0%|          | 0/2014 [00:00<?, ?it/s]"
            ]
          },
          "metadata": {},
          "output_type": "display_data"
        },
        {
          "data": {
            "application/vnd.jupyter.widget-view+json": {
              "model_id": "5215e57aeb8248b887d7dd99767c61ef",
              "version_major": 2,
              "version_minor": 0
            },
            "text/plain": [
              "bed (4):   0%|          | 0/998 [00:00<?, ?it/s]"
            ]
          },
          "metadata": {},
          "output_type": "display_data"
        },
        {
          "data": {
            "application/vnd.jupyter.widget-view+json": {
              "model_id": "b0da02e7ecd04e22851d50618ef21498",
              "version_major": 2,
              "version_minor": 0
            },
            "text/plain": [
              "bed (4):   0%|          | 0/124 [00:00<?, ?it/s]"
            ]
          },
          "metadata": {},
          "output_type": "display_data"
        },
        {
          "data": {
            "application/vnd.jupyter.widget-view+json": {
              "model_id": "a2857498df4e42018370954dabfdc0ed",
              "version_major": 2,
              "version_minor": 0
            },
            "text/plain": [
              "bed (4):   0%|          | 0/126 [00:00<?, ?it/s]"
            ]
          },
          "metadata": {},
          "output_type": "display_data"
        },
        {
          "data": {
            "application/vnd.jupyter.widget-view+json": {
              "model_id": "b063021f553042c494f2380cb89ca8d2",
              "version_major": 2,
              "version_minor": 0
            },
            "text/plain": [
              "Checking:   0%|          | 0/2064 [00:00<?, ?it/s]"
            ]
          },
          "metadata": {},
          "output_type": "display_data"
        },
        {
          "data": {
            "application/vnd.jupyter.widget-view+json": {
              "model_id": "2a6d16ee1b5041808150a29b2f51db3d",
              "version_major": 2,
              "version_minor": 0
            },
            "text/plain": [
              "bird (4):   0%|          | 0/1293 [00:00<?, ?it/s]"
            ]
          },
          "metadata": {},
          "output_type": "display_data"
        },
        {
          "data": {
            "application/vnd.jupyter.widget-view+json": {
              "model_id": "f966e0b0017e4653a7c3fb6559163729",
              "version_major": 2,
              "version_minor": 0
            },
            "text/plain": [
              "bird (4):   0%|          | 0/161 [00:00<?, ?it/s]"
            ]
          },
          "metadata": {},
          "output_type": "display_data"
        },
        {
          "data": {
            "application/vnd.jupyter.widget-view+json": {
              "model_id": "c22cc6850cbc4e0b8db557b09d87b72f",
              "version_major": 2,
              "version_minor": 0
            },
            "text/plain": [
              "bird (4):   0%|          | 0/163 [00:00<?, ?it/s]"
            ]
          },
          "metadata": {},
          "output_type": "display_data"
        },
        {
          "data": {
            "application/vnd.jupyter.widget-view+json": {
              "model_id": "677a613567fe4c5988980384fb26a40d",
              "version_major": 2,
              "version_minor": 0
            },
            "text/plain": [
              "Checking:   0%|          | 0/2031 [00:00<?, ?it/s]"
            ]
          },
          "metadata": {},
          "output_type": "display_data"
        },
        {
          "data": {
            "application/vnd.jupyter.widget-view+json": {
              "model_id": "6e319f98fec9410383c66083a5c9fa25",
              "version_major": 2,
              "version_minor": 0
            },
            "text/plain": [
              "cat (4):   0%|          | 0/921 [00:00<?, ?it/s]"
            ]
          },
          "metadata": {},
          "output_type": "display_data"
        },
        {
          "data": {
            "application/vnd.jupyter.widget-view+json": {
              "model_id": "84a533c52e4c4a6ba0e2c6a2300d1077",
              "version_major": 2,
              "version_minor": 0
            },
            "text/plain": [
              "cat (4):   0%|          | 0/115 [00:00<?, ?it/s]"
            ]
          },
          "metadata": {},
          "output_type": "display_data"
        },
        {
          "data": {
            "application/vnd.jupyter.widget-view+json": {
              "model_id": "e12a8a9a5a9342dcbb036317ee2ee653",
              "version_major": 2,
              "version_minor": 0
            },
            "text/plain": [
              "cat (4):   0%|          | 0/116 [00:00<?, ?it/s]"
            ]
          },
          "metadata": {},
          "output_type": "display_data"
        },
        {
          "data": {
            "application/vnd.jupyter.widget-view+json": {
              "model_id": "1ac2e1c93e2b4682bb209ce9ea935613",
              "version_major": 2,
              "version_minor": 0
            },
            "text/plain": [
              "Checking:   0%|          | 0/2128 [00:00<?, ?it/s]"
            ]
          },
          "metadata": {},
          "output_type": "display_data"
        },
        {
          "data": {
            "application/vnd.jupyter.widget-view+json": {
              "model_id": "90d01001b9224c8b94a030c7252dbbfe",
              "version_major": 2,
              "version_minor": 0
            },
            "text/plain": [
              "dog (4):   0%|          | 0/1306 [00:00<?, ?it/s]"
            ]
          },
          "metadata": {},
          "output_type": "display_data"
        },
        {
          "data": {
            "application/vnd.jupyter.widget-view+json": {
              "model_id": "8b64b74c5f644575ad9a13efbe0e4e09",
              "version_major": 2,
              "version_minor": 0
            },
            "text/plain": [
              "dog (4):   0%|          | 0/163 [00:00<?, ?it/s]"
            ]
          },
          "metadata": {},
          "output_type": "display_data"
        },
        {
          "data": {
            "application/vnd.jupyter.widget-view+json": {
              "model_id": "92a1184db15c4513b7f0b84d6e786a79",
              "version_major": 2,
              "version_minor": 0
            },
            "text/plain": [
              "dog (4):   0%|          | 0/164 [00:00<?, ?it/s]"
            ]
          },
          "metadata": {},
          "output_type": "display_data"
        },
        {
          "data": {
            "application/vnd.jupyter.widget-view+json": {
              "model_id": "47f95b462af545f8b128e0b846cff4cc",
              "version_major": 2,
              "version_minor": 0
            },
            "text/plain": [
              "Checking:   0%|          | 0/2054 [00:00<?, ?it/s]"
            ]
          },
          "metadata": {},
          "output_type": "display_data"
        },
        {
          "data": {
            "application/vnd.jupyter.widget-view+json": {
              "model_id": "ee055184b9a54c38b4d0a6c5d831f722",
              "version_major": 2,
              "version_minor": 0
            },
            "text/plain": [
              "happy (4):   0%|          | 0/1285 [00:00<?, ?it/s]"
            ]
          },
          "metadata": {},
          "output_type": "display_data"
        },
        {
          "data": {
            "application/vnd.jupyter.widget-view+json": {
              "model_id": "57dbb2cd10b14f8eac73312309a3ddd4",
              "version_major": 2,
              "version_minor": 0
            },
            "text/plain": [
              "happy (4):   0%|          | 0/160 [00:00<?, ?it/s]"
            ]
          },
          "metadata": {},
          "output_type": "display_data"
        },
        {
          "data": {
            "application/vnd.jupyter.widget-view+json": {
              "model_id": "5f2e796f74ad4a7a9e485be911f59cf7",
              "version_major": 2,
              "version_minor": 0
            },
            "text/plain": [
              "happy (4):   0%|          | 0/162 [00:00<?, ?it/s]"
            ]
          },
          "metadata": {},
          "output_type": "display_data"
        },
        {
          "data": {
            "application/vnd.jupyter.widget-view+json": {
              "model_id": "7f63b44927e54e62978542b2f7e4ba3d",
              "version_major": 2,
              "version_minor": 0
            },
            "text/plain": [
              "Checking:   0%|          | 0/2113 [00:00<?, ?it/s]"
            ]
          },
          "metadata": {},
          "output_type": "display_data"
        },
        {
          "data": {
            "application/vnd.jupyter.widget-view+json": {
              "model_id": "6ee2da3700294b88a00e6881b4d4ee8c",
              "version_major": 2,
              "version_minor": 0
            },
            "text/plain": [
              "house (4):   0%|          | 0/1132 [00:00<?, ?it/s]"
            ]
          },
          "metadata": {},
          "output_type": "display_data"
        },
        {
          "data": {
            "application/vnd.jupyter.widget-view+json": {
              "model_id": "b1ddeb56dd674323be25c25281e1485e",
              "version_major": 2,
              "version_minor": 0
            },
            "text/plain": [
              "house (4):   0%|          | 0/141 [00:00<?, ?it/s]"
            ]
          },
          "metadata": {},
          "output_type": "display_data"
        },
        {
          "data": {
            "application/vnd.jupyter.widget-view+json": {
              "model_id": "7e9ffa07016441dc99510fcc0ccf4946",
              "version_major": 2,
              "version_minor": 0
            },
            "text/plain": [
              "house (4):   0%|          | 0/142 [00:00<?, ?it/s]"
            ]
          },
          "metadata": {},
          "output_type": "display_data"
        },
        {
          "data": {
            "application/vnd.jupyter.widget-view+json": {
              "model_id": "a3afe114db764e9787c8990027e8601d",
              "version_major": 2,
              "version_minor": 0
            },
            "text/plain": [
              "Checking:   0%|          | 0/2100 [00:00<?, ?it/s]"
            ]
          },
          "metadata": {},
          "output_type": "display_data"
        },
        {
          "data": {
            "application/vnd.jupyter.widget-view+json": {
              "model_id": "a9d55f0c9dab47eaa32557b7eb00dddc",
              "version_major": 2,
              "version_minor": 0
            },
            "text/plain": [
              "marvin (4):   0%|          | 0/1438 [00:00<?, ?it/s]"
            ]
          },
          "metadata": {},
          "output_type": "display_data"
        },
        {
          "data": {
            "application/vnd.jupyter.widget-view+json": {
              "model_id": "55b28842b3a24e3a85f7229afc4d5847",
              "version_major": 2,
              "version_minor": 0
            },
            "text/plain": [
              "marvin (4):   0%|          | 0/179 [00:00<?, ?it/s]"
            ]
          },
          "metadata": {},
          "output_type": "display_data"
        },
        {
          "data": {
            "application/vnd.jupyter.widget-view+json": {
              "model_id": "bb60eba1790c4214b531d47b56ee974d",
              "version_major": 2,
              "version_minor": 0
            },
            "text/plain": [
              "marvin (4):   0%|          | 0/181 [00:00<?, ?it/s]"
            ]
          },
          "metadata": {},
          "output_type": "display_data"
        },
        {
          "data": {
            "application/vnd.jupyter.widget-view+json": {
              "model_id": "cc3c53918715435999de93ae180213f6",
              "version_major": 2,
              "version_minor": 0
            },
            "text/plain": [
              "Checking:   0%|          | 0/2022 [00:00<?, ?it/s]"
            ]
          },
          "metadata": {},
          "output_type": "display_data"
        },
        {
          "data": {
            "application/vnd.jupyter.widget-view+json": {
              "model_id": "4879144ea3444a14aab95de1c58bca60",
              "version_major": 2,
              "version_minor": 0
            },
            "text/plain": [
              "sheila (4):   0%|          | 0/1384 [00:00<?, ?it/s]"
            ]
          },
          "metadata": {},
          "output_type": "display_data"
        },
        {
          "data": {
            "application/vnd.jupyter.widget-view+json": {
              "model_id": "6d7657601a8d44eba5a6b975cfc67140",
              "version_major": 2,
              "version_minor": 0
            },
            "text/plain": [
              "sheila (4):   0%|          | 0/173 [00:00<?, ?it/s]"
            ]
          },
          "metadata": {},
          "output_type": "display_data"
        },
        {
          "data": {
            "application/vnd.jupyter.widget-view+json": {
              "model_id": "a4e8fdc8a23148d0bc6440be86e2ec68",
              "version_major": 2,
              "version_minor": 0
            },
            "text/plain": [
              "sheila (4):   0%|          | 0/173 [00:00<?, ?it/s]"
            ]
          },
          "metadata": {},
          "output_type": "display_data"
        },
        {
          "data": {
            "application/vnd.jupyter.widget-view+json": {
              "model_id": "0865fe0c2e804822a125582388030ea5",
              "version_major": 2,
              "version_minor": 0
            },
            "text/plain": [
              "Checking:   0%|          | 0/1592 [00:00<?, ?it/s]"
            ]
          },
          "metadata": {},
          "output_type": "display_data"
        },
        {
          "data": {
            "application/vnd.jupyter.widget-view+json": {
              "model_id": "c6d0cc6063d84a9e964047cfed2b62b3",
              "version_major": 2,
              "version_minor": 0
            },
            "text/plain": [
              "visual (4):   0%|          | 0/1149 [00:00<?, ?it/s]"
            ]
          },
          "metadata": {},
          "output_type": "display_data"
        },
        {
          "data": {
            "application/vnd.jupyter.widget-view+json": {
              "model_id": "fce7a03ee5eb408282bdb533f7971c60",
              "version_major": 2,
              "version_minor": 0
            },
            "text/plain": [
              "visual (4):   0%|          | 0/143 [00:00<?, ?it/s]"
            ]
          },
          "metadata": {},
          "output_type": "display_data"
        },
        {
          "data": {
            "application/vnd.jupyter.widget-view+json": {
              "model_id": "4d6d89eaaed346848627f7b1c9e9729d",
              "version_major": 2,
              "version_minor": 0
            },
            "text/plain": [
              "visual (4):   0%|          | 0/145 [00:00<?, ?it/s]"
            ]
          },
          "metadata": {},
          "output_type": "display_data"
        },
        {
          "data": {
            "application/vnd.jupyter.widget-view+json": {
              "model_id": "e92e1c6ebf2b4e4db6bf4e86ff9399bd",
              "version_major": 2,
              "version_minor": 0
            },
            "text/plain": [
              "Checking:   0%|          | 0/2123 [00:00<?, ?it/s]"
            ]
          },
          "metadata": {},
          "output_type": "display_data"
        },
        {
          "data": {
            "application/vnd.jupyter.widget-view+json": {
              "model_id": "32e42c99312d49afa46b902207e79fb9",
              "version_major": 2,
              "version_minor": 0
            },
            "text/plain": [
              "wow (4):   0%|          | 0/1356 [00:00<?, ?it/s]"
            ]
          },
          "metadata": {},
          "output_type": "display_data"
        },
        {
          "data": {
            "application/vnd.jupyter.widget-view+json": {
              "model_id": "c4a584e1e47648b29163f70aeb65fde1",
              "version_major": 2,
              "version_minor": 0
            },
            "text/plain": [
              "wow (4):   0%|          | 0/169 [00:00<?, ?it/s]"
            ]
          },
          "metadata": {},
          "output_type": "display_data"
        },
        {
          "data": {
            "application/vnd.jupyter.widget-view+json": {
              "model_id": "b00e3011116444d3900e2d212d4a4fee",
              "version_major": 2,
              "version_minor": 0
            },
            "text/plain": [
              "wow (4):   0%|          | 0/170 [00:00<?, ?it/s]"
            ]
          },
          "metadata": {},
          "output_type": "display_data"
        },
        {
          "name": "stdout",
          "output_type": "stream",
          "text": [
            "153873 19325 19200\n"
          ]
        }
      ],
      "source": [
        "def process_files(file_names, label, repeat=1):\n",
        "    file_names = tf.repeat(file_names, repeat).numpy()\n",
        "    return [(process_file(file_name), label) for file_name in tqdm(file_names, desc=f\"{word} ({label})\", leave=False)]\n",
        "\n",
        "# process the files for a word into the spectrogram and one hot encoding word value\n",
        "def process_word(word, label, repeat=1):\n",
        "    # get a list of files names for the word\n",
        "    file_names = [file_name for file_name in tqdm(get_files(word), desc=\"Checking\", leave=False) if is_valid_file(file_name)]\n",
        "    # randomly shuffle the filenames\n",
        "    np.random.shuffle(file_names)\n",
        "    # split the files into train, validate and test buckets\n",
        "    train_size=int(TRAIN_SIZE*len(file_names))\n",
        "    validation_size=int(VALIDATION_SIZE*len(file_names))\n",
        "    test_size=int(TEST_SIZE*len(file_names))\n",
        "    # get the training samples\n",
        "    train.extend(\n",
        "        process_files(\n",
        "            file_names[:train_size],\n",
        "            label,\n",
        "            repeat=repeat\n",
        "        )\n",
        "    )\n",
        "    # and the validation samples\n",
        "    validate.extend(\n",
        "        process_files(\n",
        "            file_names[train_size:train_size+validation_size],\n",
        "            label,\n",
        "            repeat=repeat\n",
        "        )\n",
        "    )\n",
        "    # and the test samples\n",
        "    test.extend(\n",
        "        process_files(\n",
        "            file_names[train_size+validation_size:],\n",
        "            label,\n",
        "            repeat=repeat\n",
        "        )\n",
        "    )\n",
        "\n",
        "# process all the command words\n",
        "for word in tqdm(command_words, desc=\"Processing words\"):\n",
        "    if '_' not in word:\n",
        "        process_word(word, command_words.index(word), repeat= repeat_times[word])\n",
        "        \n",
        "# all the nonsense words\n",
        "for word in tqdm(nonsense_words, desc=\"Processing words\"):\n",
        "    if '_' not in word:\n",
        "        process_word(word, command_words.index('_invalid'), repeat=1)\n",
        "\n",
        "print(len(train), len(test), len(validate))"
      ]
    },
    {
      "cell_type": "code",
      "execution_count": 24,
      "metadata": {
        "id": "DqlJTw6f4JFW"
      },
      "outputs": [
        {
          "data": {
            "application/vnd.jupyter.widget-view+json": {
              "model_id": "d0a85958c1a743f28b7f015711f730d0",
              "version_major": 2,
              "version_minor": 0
            },
            "text/plain": [
              "Processing Background Noise:   0%|          | 0/6 [00:00<?, ?it/s]"
            ]
          },
          "metadata": {},
          "output_type": "display_data"
        },
        {
          "data": {
            "application/vnd.jupyter.widget-view+json": {
              "model_id": "961f2128b3c044ce9e0c6142f17b0894",
              "version_major": 2,
              "version_minor": 0
            },
            "text/plain": [
              "speech_data/_background_noise_/white_noise.wav:   0%|          | 0/59 [00:00<?, ?it/s]"
            ]
          },
          "metadata": {},
          "output_type": "display_data"
        },
        {
          "data": {
            "application/vnd.jupyter.widget-view+json": {
              "model_id": "c0cdd497a78b4c4f81882886b50d2c4d",
              "version_major": 2,
              "version_minor": 0
            },
            "text/plain": [
              "Simulated Words:   0%|          | 0/1000 [00:00<?, ?it/s]"
            ]
          },
          "metadata": {},
          "output_type": "display_data"
        },
        {
          "data": {
            "application/vnd.jupyter.widget-view+json": {
              "model_id": "693722aa7f9c421ca8b0ad322a922646",
              "version_major": 2,
              "version_minor": 0
            },
            "text/plain": [
              "speech_data/_background_noise_/doing_the_dishes.wav:   0%|          | 0/95 [00:00<?, ?it/s]"
            ]
          },
          "metadata": {},
          "output_type": "display_data"
        },
        {
          "data": {
            "application/vnd.jupyter.widget-view+json": {
              "model_id": "11eebeff93334d348d7ba85cbbfa4046",
              "version_major": 2,
              "version_minor": 0
            },
            "text/plain": [
              "Simulated Words:   0%|          | 0/1000 [00:00<?, ?it/s]"
            ]
          },
          "metadata": {},
          "output_type": "display_data"
        },
        {
          "data": {
            "application/vnd.jupyter.widget-view+json": {
              "model_id": "9a281c3a178d4ac191a07fbf3119b6fc",
              "version_major": 2,
              "version_minor": 0
            },
            "text/plain": [
              "speech_data/_background_noise_/dude_miaowing.wav:   0%|          | 0/61 [00:00<?, ?it/s]"
            ]
          },
          "metadata": {},
          "output_type": "display_data"
        },
        {
          "data": {
            "application/vnd.jupyter.widget-view+json": {
              "model_id": "9f34a7f9cc0f4fd6a942cf4f1d02671e",
              "version_major": 2,
              "version_minor": 0
            },
            "text/plain": [
              "Simulated Words:   0%|          | 0/1000 [00:00<?, ?it/s]"
            ]
          },
          "metadata": {},
          "output_type": "display_data"
        },
        {
          "data": {
            "application/vnd.jupyter.widget-view+json": {
              "model_id": "785e1e1a465a451384c47fea1fee3fe0",
              "version_major": 2,
              "version_minor": 0
            },
            "text/plain": [
              "speech_data/_background_noise_/exercise_bike.wav:   0%|          | 0/61 [00:00<?, ?it/s]"
            ]
          },
          "metadata": {},
          "output_type": "display_data"
        },
        {
          "data": {
            "application/vnd.jupyter.widget-view+json": {
              "model_id": "2c8162d6dd244416b99a2074712572fb",
              "version_major": 2,
              "version_minor": 0
            },
            "text/plain": [
              "Simulated Words:   0%|          | 0/1000 [00:00<?, ?it/s]"
            ]
          },
          "metadata": {},
          "output_type": "display_data"
        },
        {
          "data": {
            "application/vnd.jupyter.widget-view+json": {
              "model_id": "9f13e4209be34a3e987b01777751e39b",
              "version_major": 2,
              "version_minor": 0
            },
            "text/plain": [
              "speech_data/_background_noise_/running_tap.wav:   0%|          | 0/61 [00:00<?, ?it/s]"
            ]
          },
          "metadata": {},
          "output_type": "display_data"
        },
        {
          "data": {
            "application/vnd.jupyter.widget-view+json": {
              "model_id": "10d20509ef5d4d7d9900f750db3eb51d",
              "version_major": 2,
              "version_minor": 0
            },
            "text/plain": [
              "Simulated Words:   0%|          | 0/1000 [00:00<?, ?it/s]"
            ]
          },
          "metadata": {},
          "output_type": "display_data"
        },
        {
          "data": {
            "application/vnd.jupyter.widget-view+json": {
              "model_id": "e52bfe313dd74680ae265061b142f9bd",
              "version_major": 2,
              "version_minor": 0
            },
            "text/plain": [
              "speech_data/_background_noise_/pink_noise.wav:   0%|          | 0/59 [00:00<?, ?it/s]"
            ]
          },
          "metadata": {},
          "output_type": "display_data"
        },
        {
          "data": {
            "application/vnd.jupyter.widget-view+json": {
              "model_id": "da0055d6fad2436eacc2ef106ea7b4c3",
              "version_major": 2,
              "version_minor": 0
            },
            "text/plain": [
              "Simulated Words:   0%|          | 0/1000 [00:00<?, ?it/s]"
            ]
          },
          "metadata": {},
          "output_type": "display_data"
        },
        {
          "name": "stdout",
          "output_type": "stream",
          "text": [
            "158987 19970 19837\n"
          ]
        }
      ],
      "source": [
        "# process the background noise files\n",
        "def process_background(file_name, label):\n",
        "    # load the audio file\n",
        "    audio_tensor = tfio.audio.AudioIOTensor(file_name)\n",
        "    audio = tf.cast(audio_tensor[:], tf.float32)\n",
        "    audio_length = len(audio)\n",
        "    samples = []\n",
        "    for section_start in tqdm(range(0, audio_length-EXPECTED_SAMPLES, 16000), desc=file_name, leave=False):\n",
        "        section_end = section_start + EXPECTED_SAMPLES\n",
        "        section = audio[section_start:section_end]\n",
        "        # get the spectrogram\n",
        "        spectrogram = get_spectrogram(section)\n",
        "        samples.append((spectrogram, label))\n",
        "\n",
        "    # simulate random utterances\n",
        "    for section_index in tqdm(range(1000), desc=\"Simulated Words\", leave=False):\n",
        "        section_start = np.random.randint(0, audio_length - EXPECTED_SAMPLES)\n",
        "        section_end = section_start + EXPECTED_SAMPLES\n",
        "        section = np.reshape(audio[section_start:section_end], (EXPECTED_SAMPLES))\n",
        "\n",
        "        result = np.zeros((EXPECTED_SAMPLES))\n",
        "        # create a pseudo bit of voice\n",
        "        voice_length = np.random.randint(MINIMUM_VOICE_LENGTH/2, EXPECTED_SAMPLES)\n",
        "        voice_start = np.random.randint(0, EXPECTED_SAMPLES - voice_length)\n",
        "        hamming = np.hamming(voice_length)\n",
        "        # amplify the voice section\n",
        "        result[voice_start:voice_start+voice_length] = hamming * section[voice_start:voice_start+voice_length]\n",
        "        # get the spectrogram\n",
        "        spectrogram = get_spectrogram(np.reshape(section, (16000, 1)))\n",
        "        samples.append((spectrogram, label))\n",
        "        \n",
        "    \n",
        "    np.random.shuffle(samples)\n",
        "    \n",
        "    train_size=int(TRAIN_SIZE*len(samples))\n",
        "    validation_size=int(VALIDATION_SIZE*len(samples))\n",
        "    test_size=int(TEST_SIZE*len(samples))\n",
        "    \n",
        "    train.extend(samples[:train_size])\n",
        "\n",
        "    validate.extend(samples[train_size:train_size+validation_size])\n",
        "\n",
        "    test.extend(samples[train_size+validation_size:])\n",
        "\n",
        "        \n",
        "for file_name in tqdm(get_files('_background_noise_'), desc=\"Processing Background Noise\"):\n",
        "    process_background(file_name, command_words.index(\"_invalid\"))\n",
        "    \n",
        "print(len(train), len(test), len(validate))"
      ]
    },
    {
      "cell_type": "code",
      "execution_count": 26,
      "metadata": {
        "id": "fl5Blrod4JFW"
      },
      "outputs": [
        {
          "data": {
            "application/vnd.jupyter.widget-view+json": {
              "model_id": "291d526d8cc94b1da6e347a347bf9ab4",
              "version_major": 2,
              "version_minor": 0
            },
            "text/plain": [
              "Processing problem noise:   0%|          | 0/5 [00:00<?, ?it/s]"
            ]
          },
          "metadata": {},
          "output_type": "display_data"
        },
        {
          "data": {
            "application/vnd.jupyter.widget-view+json": {
              "model_id": "220788debea54786b2f061c985492389",
              "version_major": 2,
              "version_minor": 0
            },
            "text/plain": [
              "speech_data/_problem_noise_/noise4.wav:   0%|          | 0/620 [00:00<?, ?it/s]"
            ]
          },
          "metadata": {},
          "output_type": "display_data"
        },
        {
          "data": {
            "application/vnd.jupyter.widget-view+json": {
              "model_id": "31918123f1ce4654a1dd9447173077f3",
              "version_major": 2,
              "version_minor": 0
            },
            "text/plain": [
              "speech_data/_problem_noise_/noise3.wav:   0%|          | 0/620 [00:00<?, ?it/s]"
            ]
          },
          "metadata": {},
          "output_type": "display_data"
        },
        {
          "data": {
            "application/vnd.jupyter.widget-view+json": {
              "model_id": "86474eb82c6d42f8980a36e73f2b44d3",
              "version_major": 2,
              "version_minor": 0
            },
            "text/plain": [
              "speech_data/_problem_noise_/noise2.wav:   0%|          | 0/620 [00:00<?, ?it/s]"
            ]
          },
          "metadata": {},
          "output_type": "display_data"
        },
        {
          "data": {
            "application/vnd.jupyter.widget-view+json": {
              "model_id": "6658360b1e004e058beeb89413dfa50f",
              "version_major": 2,
              "version_minor": 0
            },
            "text/plain": [
              "speech_data/_problem_noise_/noise.wav:   0%|          | 0/2427 [00:00<?, ?it/s]"
            ]
          },
          "metadata": {},
          "output_type": "display_data"
        },
        {
          "data": {
            "application/vnd.jupyter.widget-view+json": {
              "model_id": "c5e8c93a4df94800a92182fcba59a603",
              "version_major": 2,
              "version_minor": 0
            },
            "text/plain": [
              "speech_data/_problem_noise_/noise5.wav:   0%|          | 0/620 [00:00<?, ?it/s]"
            ]
          },
          "metadata": {},
          "output_type": "display_data"
        }
      ],
      "source": [
        "def process_problem_noise(file_name, label):\n",
        "    samples = []\n",
        "    # load the audio file\n",
        "    audio_tensor = tfio.audio.AudioIOTensor(file_name)\n",
        "    audio = tf.cast(audio_tensor[:], tf.float32)\n",
        "    audio_length = len(audio)\n",
        "    samples = []\n",
        "    for section_start in tqdm(range(0, audio_length-EXPECTED_SAMPLES, 800), desc=file_name, leave=False):\n",
        "        section_end = section_start + EXPECTED_SAMPLES\n",
        "        section = audio[section_start:section_end]\n",
        "        # get the spectrogram\n",
        "        spectrogram = get_spectrogram(section)\n",
        "        samples.append((spectrogram, label))\n",
        "        \n",
        "    np.random.shuffle(samples)\n",
        "    \n",
        "    train_size=int(TRAIN_SIZE*len(samples))\n",
        "    validation_size=int(VALIDATION_SIZE*len(samples))\n",
        "    test_size=int(TEST_SIZE*len(samples))\n",
        "    \n",
        "    train.extend(samples[:train_size])\n",
        "    validate.extend(samples[train_size:train_size+validation_size])\n",
        "    test.extend(samples[train_size+validation_size:])\n",
        "\n",
        "\n",
        "for file_name in tqdm(get_files(\"_problem_noise_\"), desc=\"Processing problem noise\"):\n",
        "    process_problem_noise(file_name, command_words.index(\"_invalid\"))"
      ]
    },
    {
      "cell_type": "code",
      "execution_count": 27,
      "metadata": {
        "id": "nUP16tsf4JFX"
      },
      "outputs": [
        {
          "name": "stdout",
          "output_type": "stream",
          "text": [
            "162912 20462 20327\n"
          ]
        }
      ],
      "source": [
        "print(len(train), len(test), len(validate))"
      ]
    },
    {
      "cell_type": "code",
      "execution_count": 28,
      "metadata": {
        "id": "V4pIiG1E4JFX"
      },
      "outputs": [],
      "source": [
        "# randomise the training samples\n",
        "np.random.shuffle(train)"
      ]
    },
    {
      "cell_type": "code",
      "execution_count": 29,
      "metadata": {
        "id": "2xCDpfkx4JFX"
      },
      "outputs": [],
      "source": [
        "X_train, Y_train = zip(*train)\n",
        "X_validate, Y_validate = zip(*validate)\n",
        "X_test, Y_test = zip(*test)"
      ]
    },
    {
      "cell_type": "code",
      "execution_count": 30,
      "metadata": {
        "id": "0TgJb6lq4JFY"
      },
      "outputs": [
        {
          "name": "stdout",
          "output_type": "stream",
          "text": [
            "Saved training data\n",
            "Saved validation data\n",
            "Saved test data\n"
          ]
        }
      ],
      "source": [
        "# save the computed data\n",
        "np.savez_compressed(\n",
        "    \"training_spectrogram.npz\",\n",
        "    X=X_train, Y=Y_train)\n",
        "print(\"Saved training data\")\n",
        "np.savez_compressed(\n",
        "    \"validation_spectrogram.npz\",\n",
        "    X=X_validate, Y=Y_validate)\n",
        "print(\"Saved validation data\")\n",
        "np.savez_compressed(\n",
        "    \"test_spectrogram.npz\",\n",
        "    X=X_test, Y=Y_test)\n",
        "print(\"Saved test data\")"
      ]
    },
    {
      "cell_type": "code",
      "execution_count": 31,
      "metadata": {
        "id": "dSS-QVyA4JFY"
      },
      "outputs": [],
      "source": [
        "# get the width and height of the spectrogram \"image\"\n",
        "IMG_WIDTH=X_train[0].shape[0]\n",
        "IMG_HEIGHT=X_train[0].shape[1]"
      ]
    },
    {
      "cell_type": "code",
      "execution_count": 32,
      "metadata": {
        "id": "-t1h0MNT4JFZ"
      },
      "outputs": [],
      "source": [
        "def plot_images2(images_arr, imageWidth, imageHeight):\n",
        "    fig, axes = plt.subplots(2, 5, figsize=(10, 10))\n",
        "    axes = axes.flatten()\n",
        "    for img, ax in zip(images_arr, axes):\n",
        "        ax.imshow(np.reshape(img, (imageWidth, imageHeight)))\n",
        "        ax.axis(\"off\")\n",
        "    plt.tight_layout()\n",
        "    plt.show()\n",
        "    "
      ]
    },
    {
      "cell_type": "code",
      "execution_count": 34,
      "metadata": {
        "id": "PMvmIqwP4JFZ"
      },
      "outputs": [
        {
          "data": {
            "image/png": "[encoded data removed]",
            "text/plain": [
              "<Figure size 720x720 with 10 Axes>"
            ]
          },
          "metadata": {
            "needs_background": "light"
          },
          "output_type": "display_data"
        }
      ],
      "source": [
        "word_index = command_words.index(\"forward\")\n",
        "\n",
        "X_left = np.array(X_train)[np.array(Y_train) == word_index]\n",
        "plot_images2(X_left[:10], IMG_WIDTH, IMG_HEIGHT)"
      ]
    },
    {
      "cell_type": "code",
      "execution_count": 36,
      "metadata": {
        "id": "MmWe77B94JFZ"
      },
      "outputs": [
        {
          "data": {
            "image/png": "[encoded data removed]",
            "text/plain": [
              "<Figure size 720x720 with 10 Axes>"
            ]
          },
          "metadata": {
            "needs_background": "light"
          },
          "output_type": "display_data"
        }
      ],
      "source": [
        "word_index = command_words.index(\"backward\")\n",
        "\n",
        "X_right = np.array(X_train)[np.array(Y_train) == word_index]\n",
        "plot_images2(X_right[:10], IMG_WIDTH, IMG_HEIGHT)"
      ]
    }
  ],
  "metadata": {
    "accelerator": "GPU",
    "colab": {
      "collapsed_sections": [],
      "name": "Copy of process_command_traning_data.ipynb",
      "provenance": []
    },
    "gpuClass": "standard",
    "kernelspec": {
      "display_name": "Python 3.9.13 ('tf')",
      "language": "python",
      "name": "python3"
    },
    "language_info": {
      "codemirror_mode": {
        "name": "ipython",
        "version": 3
      },
      "file_extension": ".py",
      "mimetype": "text/x-python",
      "name": "python",
      "nbconvert_exporter": "python",
      "pygments_lexer": "ipython3",
      "version": "3.9.13"
    },
    "vscode": {
      "interpreter": {
        "hash": "35141f1555d117d13d8a97227602b7c05f581de6af11404d5f0697cb290e6ebc"
      }
    }
  },
  "nbformat": 4,
  "nbformat_minor": 0
}
