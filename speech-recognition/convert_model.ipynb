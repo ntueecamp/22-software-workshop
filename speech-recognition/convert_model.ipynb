{
  "cells": [
    {
      "cell_type": "markdown",
      "metadata": {
        "id": "JnWKkzgKn_d3"
      },
      "source": [
        "# Converting a trained model to tflite\n",
        "https://www.tensorflow.org/lite/microcontrollers/build_convert#model_conversion"
      ]
    },
    {
      "cell_type": "markdown",
      "metadata": {
        "id": "3klEFyXOn_d6"
      },
      "source": [
        "# Convert model to tflite"
      ]
    },
    {
      "cell_type": "code",
      "execution_count": 1,
      "metadata": {
        "id": "YnpCT4qun_d7"
      },
      "outputs": [],
      "source": [
        "import tensorflow as tf\n",
        "import numpy as np"
      ]
    },
    {
      "cell_type": "code",
      "execution_count": 2,
      "metadata": {
        "id": "lFwtnmZOn_d8"
      },
      "outputs": [],
      "source": [
        "training_spectrogram = np.load('training_spectrogram.npz')\n",
        "validation_spectrogram = np.load('validation_spectrogram.npz')\n",
        "test_spectrogram = np.load('test_spectrogram.npz')\n",
        "\n",
        "X_train = training_spectrogram['X']\n",
        "X_validate = validation_spectrogram['X']\n",
        "X_test = test_spectrogram['X']\n",
        "\n",
        "complete_train_X = np.concatenate((X_train, X_validate, X_test))\n",
        "# complete_train_X = X_validate"
      ]
    },
    {
      "cell_type": "code",
      "execution_count": 3,
      "metadata": {
        "id": "bFclfS7Bn_d9"
      },
      "outputs": [
        {
          "name": "stderr",
          "output_type": "stream",
          "text": [
            "2022-07-14 09:06:07.782775: I tensorflow/stream_executor/cuda/cuda_gpu_executor.cc:975] successful NUMA node read from SysFS had negative value (-1), but there must be at least one NUMA node, so returning NUMA node zero\n",
            "2022-07-14 09:06:07.813822: I tensorflow/stream_executor/cuda/cuda_gpu_executor.cc:975] successful NUMA node read from SysFS had negative value (-1), but there must be at least one NUMA node, so returning NUMA node zero\n",
            "2022-07-14 09:06:07.814172: I tensorflow/stream_executor/cuda/cuda_gpu_executor.cc:975] successful NUMA node read from SysFS had negative value (-1), but there must be at least one NUMA node, so returning NUMA node zero\n",
            "2022-07-14 09:06:07.815925: I tensorflow/core/platform/cpu_feature_guard.cc:193] This TensorFlow binary is optimized with oneAPI Deep Neural Network Library (oneDNN) to use the following CPU instructions in performance-critical operations:  AVX2 FMA\n",
            "To enable them in other operations, rebuild TensorFlow with the appropriate compiler flags.\n",
            "2022-07-14 09:06:07.817061: I tensorflow/stream_executor/cuda/cuda_gpu_executor.cc:975] successful NUMA node read from SysFS had negative value (-1), but there must be at least one NUMA node, so returning NUMA node zero\n",
            "2022-07-14 09:06:07.817545: I tensorflow/stream_executor/cuda/cuda_gpu_executor.cc:975] successful NUMA node read from SysFS had negative value (-1), but there must be at least one NUMA node, so returning NUMA node zero\n",
            "2022-07-14 09:06:07.817892: I tensorflow/stream_executor/cuda/cuda_gpu_executor.cc:975] successful NUMA node read from SysFS had negative value (-1), but there must be at least one NUMA node, so returning NUMA node zero\n",
            "2022-07-14 09:06:08.770155: I tensorflow/stream_executor/cuda/cuda_gpu_executor.cc:975] successful NUMA node read from SysFS had negative value (-1), but there must be at least one NUMA node, so returning NUMA node zero\n",
            "2022-07-14 09:06:08.770495: I tensorflow/stream_executor/cuda/cuda_gpu_executor.cc:975] successful NUMA node read from SysFS had negative value (-1), but there must be at least one NUMA node, so returning NUMA node zero\n",
            "2022-07-14 09:06:08.770649: I tensorflow/stream_executor/cuda/cuda_gpu_executor.cc:975] successful NUMA node read from SysFS had negative value (-1), but there must be at least one NUMA node, so returning NUMA node zero\n",
            "2022-07-14 09:06:08.771552: I tensorflow/core/common_runtime/gpu/gpu_device.cc:1532] Created device /job:localhost/replica:0/task:0/device:GPU:0 with 4655 MB memory:  -> device: 0, name: NVIDIA GeForce GTX 1660 Ti with Max-Q Design, pci bus id: 0000:01:00.0, compute capability: 7.5\n",
            "2022-07-14 09:06:09.325534: W tensorflow/compiler/mlir/lite/python/tf_tfl_flatbuffer_helpers.cc:362] Ignored output_format.\n",
            "2022-07-14 09:06:09.325625: W tensorflow/compiler/mlir/lite/python/tf_tfl_flatbuffer_helpers.cc:365] Ignored drop_control_dependency.\n",
            "2022-07-14 09:06:09.326880: I tensorflow/cc/saved_model/reader.cc:43] Reading SavedModel from: trained.model\n",
            "2022-07-14 09:06:09.331666: I tensorflow/cc/saved_model/reader.cc:81] Reading meta graph with tags { serve }\n",
            "2022-07-14 09:06:09.331737: I tensorflow/cc/saved_model/reader.cc:122] Reading SavedModel debug info (if present) from: trained.model\n",
            "2022-07-14 09:06:09.338347: I tensorflow/compiler/mlir/mlir_graph_optimization_pass.cc:354] MLIR V1 optimization pass is not enabled\n",
            "2022-07-14 09:06:09.342001: I tensorflow/cc/saved_model/loader.cc:228] Restoring SavedModel bundle.\n",
            "2022-07-14 09:06:09.465578: I tensorflow/cc/saved_model/loader.cc:212] Running initialization op on SavedModel bundle at path: trained.model\n",
            "2022-07-14 09:06:09.485720: I tensorflow/cc/saved_model/loader.cc:301] SavedModel load for tags { serve }; Status: success: OK. Took 158846 microseconds.\n",
            "2022-07-14 09:06:09.528059: I tensorflow/compiler/mlir/tensorflow/utils/dump_mlir_util.cc:263] disabling MLIR crash reproducer, set env var `MLIR_CRASH_REPRODUCER_DIRECTORY` to enable.\n",
            "fully_quantize: 0, inference_type: 6, input_inference_type: 0, output_inference_type: 0\n"
          ]
        },
        {
          "data": {
            "text/plain": [
              "82160"
            ]
          },
          "execution_count": 3,
          "metadata": {},
          "output_type": "execute_result"
        }
      ],
      "source": [
        "converter2 = tf.lite.TFLiteConverter.from_saved_model(\"trained.model\")\n",
        "converter2.optimizations = [tf.lite.Optimize.DEFAULT]\n",
        "def representative_dataset_gen():\n",
        "    for i in range(0, len(complete_train_X), 100):\n",
        "        # Get sample input data as a numpy array in a method of your choosing.\n",
        "        yield [complete_train_X[i:i+100]]\n",
        "converter2.representative_dataset = representative_dataset_gen\n",
        "# converter.optimizations = [tf.lite.Optimize.OPTIMIZE_FOR_SIZE]\n",
        "converter2.target_spec.supported_ops = [tf.lite.OpsSet.TFLITE_BUILTINS_INT8]\n",
        "tflite_quant_model = converter2.convert()\n",
        "open(\"converted_model.tflite\", \"wb\").write(tflite_quant_model)"
      ]
    },
    {
      "cell_type": "markdown",
      "metadata": {
        "id": "367kYjDQn_d-"
      },
      "source": [
        "# To convert to C++\n",
        "This will run a command line tool to convert out tflite model into C code."
      ]
    },
    {
      "cell_type": "code",
      "execution_count": 4,
      "metadata": {
        "id": "sKZL_UUHn_d-"
      },
      "outputs": [],
      "source": [
        "!xxd -i converted_model.tflite > model_data.cc"
      ]
    },
    {
      "cell_type": "code",
      "execution_count": null,
      "metadata": {
        "id": "wyMC_0qFn_d_"
      },
      "outputs": [],
      "source": []
    }
  ],
  "metadata": {
    "colab": {
      "name": "Convert Trained Model To TFLite.ipynb",
      "provenance": []
    },
    "kernelspec": {
      "display_name": "Python 3.8.13 ('tf')",
      "language": "python",
      "name": "python3"
    },
    "language_info": {
      "codemirror_mode": {
        "name": "ipython",
        "version": 3
      },
      "file_extension": ".py",
      "mimetype": "text/x-python",
      "name": "python",
      "nbconvert_exporter": "python",
      "pygments_lexer": "ipython3",
      "version": "3.9.13"
    },
    "vscode": {
      "interpreter": {
        "hash": "35141f1555d117d13d8a97227602b7c05f581de6af11404d5f0697cb290e6ebc"
      }
    }
  },
  "nbformat": 4,
  "nbformat_minor": 0
}
