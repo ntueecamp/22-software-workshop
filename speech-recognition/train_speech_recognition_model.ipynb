{
  "cells": [
    {
      "cell_type": "markdown",
      "source": [
        "# Test for GPU"
      ],
      "metadata": {
        "id": "N5hMxX4YcoLW"
      }
    },
    {
      "cell_type": "code",
      "source": [
        "!nvidia-smi"
      ],
      "metadata": {
        "colab": {
          "base_uri": "https://localhost:8080/"
        },
        "id": "cbE5DCX2cnpT",
        "outputId": "a5bcf87a-c65b-4904-b743-d48c0b369b6f"
      },
      "execution_count": null,
      "outputs": [
        {
          "output_type": "stream",
          "name": "stdout",
          "text": [
            "Thu Jun 30 17:47:11 2022       \n",
            "+-----------------------------------------------------------------------------+\n",
            "| NVIDIA-SMI 460.32.03    Driver Version: 460.32.03    CUDA Version: 11.2     |\n",
            "|-------------------------------+----------------------+----------------------+\n",
            "| GPU  Name        Persistence-M| Bus-Id        Disp.A | Volatile Uncorr. ECC |\n",
            "| Fan  Temp  Perf  Pwr:Usage/Cap|         Memory-Usage | GPU-Util  Compute M. |\n",
            "|                               |                      |               MIG M. |\n",
            "|===============================+======================+======================|\n",
            "|   0  Tesla P100-PCIE...  Off  | 00000000:00:04.0 Off |                    0 |\n",
            "| N/A   47C    P0    28W / 250W |      0MiB / 16280MiB |      0%      Default |\n",
            "|                               |                      |                  N/A |\n",
            "+-------------------------------+----------------------+----------------------+\n",
            "                                                                               \n",
            "+-----------------------------------------------------------------------------+\n",
            "| Processes:                                                                  |\n",
            "|  GPU   GI   CI        PID   Type   Process name                  GPU Memory |\n",
            "|        ID   ID                                                   Usage      |\n",
            "|=============================================================================|\n",
            "|  No running processes found                                                 |\n",
            "+-----------------------------------------------------------------------------+\n"
          ]
        }
      ]
    },
    {
      "cell_type": "markdown",
      "source": [
        "# Get Training Data"
      ],
      "metadata": {
        "id": "GzJYriKkcupW"
      }
    },
    {
      "cell_type": "code",
      "source": [
        "!gdown https://drive.google.com/u/2/uc?id=1kmUGf-zq-QgB5LgIWUJPEHCGZZtIZ9V3&export=download\n",
        "!gdown https://drive.google.com/u/2/uc?id=1rycfwn_kFI837YXnDTSm3LFnhAlYhBw-&export=download\n",
        "!gdown https://drive.google.com/u/2/uc?id=194H5u7eV19L3ZKM-L9oHxC76Tmz7GopF&export=download"
      ],
      "metadata": {
        "id": "cOq0lvR5cygv",
        "colab": {
          "base_uri": "https://localhost:8080/"
        },
        "outputId": "de1875ec-cde0-428f-94d1-58048c2e4418"
      },
      "execution_count": null,
      "outputs": [
        {
          "output_type": "stream",
          "name": "stdout",
          "text": [
            "Downloading...\n",
            "From: https://drive.google.com/u/2/uc?id=1kmUGf-zq-QgB5LgIWUJPEHCGZZtIZ9V3\n",
            "To: /content/training_spectrogram.npz\n",
            "100% 3.54G/3.54G [00:39<00:00, 89.5MB/s]\n",
            "Downloading...\n",
            "From: https://drive.google.com/u/2/uc?id=1rycfwn_kFI837YXnDTSm3LFnhAlYhBw-\n",
            "To: /content/validation_spectrogram.npz\n",
            "100% 442M/442M [00:05<00:00, 82.2MB/s]\n",
            "Downloading...\n",
            "From: https://drive.google.com/u/2/uc?id=194H5u7eV19L3ZKM-L9oHxC76Tmz7GopF\n",
            "To: /content/test_spectrogram.npz\n",
            "100% 445M/445M [00:04<00:00, 103MB/s]\n"
          ]
        }
      ]
    },
    {
      "cell_type": "markdown",
      "metadata": {
        "id": "7ZuigSoBOgNw"
      },
      "source": [
        "# Training\n",
        "\n",
        "This treats the spectrograms of the words like images"
      ]
    },
    {
      "cell_type": "code",
      "execution_count": null,
      "metadata": {
        "id": "aa6niXGfOgNx"
      },
      "outputs": [],
      "source": [
        "# Import all the things we will need\n",
        "import datetime\n",
        "import tensorflow as tf\n",
        "import numpy as np\n",
        "from tensorflow import keras\n",
        "from tensorflow.keras import regularizers\n",
        "from tensorflow.keras.models import Sequential\n",
        "from tensorflow.keras.layers import Dense, Conv2D, Flatten, Dropout, MaxPooling2D, BatchNormalization\n",
        "from tensorflow.data import Dataset\n",
        "import matplotlib.pyplot as plt\n",
        "import gc"
      ]
    },
    {
      "cell_type": "code",
      "execution_count": null,
      "metadata": {
        "id": "E64TJ9oAcjLz"
      },
      "outputs": [],
      "source": [
        "# clear out any old logs\n",
        "!rm -rf ./logs/ "
      ]
    },
    {
      "cell_type": "code",
      "execution_count": null,
      "metadata": {
        "id": "w3rOOpdlcjL0",
        "outputId": "2d0b846a-7dd3-42bf-eca2-b28fa6b2dacf",
        "colab": {
          "base_uri": "https://localhost:8080/"
        }
      },
      "outputs": [
        {
          "output_type": "stream",
          "name": "stdout",
          "text": [
            "Num GPUs Available:  1\n"
          ]
        }
      ],
      "source": [
        "print(\"Num GPUs Available: \", len(tf.config.experimental.list_physical_devices('GPU')))"
      ]
    },
    {
      "cell_type": "code",
      "execution_count": null,
      "metadata": {
        "id": "-EENm2XtOgN6"
      },
      "outputs": [],
      "source": [
        "# List of the words in categorical order\n",
        "command_words = [\n",
        "    'forward',\n",
        "    'backward',\n",
        "    'left',\n",
        "    'right',\n",
        "    '_invalid',\n",
        "]"
      ]
    },
    {
      "cell_type": "code",
      "execution_count": null,
      "metadata": {
        "id": "ERCnsdwMOgN9"
      },
      "outputs": [],
      "source": [
        "# Load up the sprectrograms and labels\n",
        "training_spectrogram = np.load('training_spectrogram.npz')\n",
        "validation_spectrogram = np.load('validation_spectrogram.npz')\n",
        "test_spectrogram = np.load('test_spectrogram.npz')"
      ]
    },
    {
      "cell_type": "code",
      "execution_count": null,
      "metadata": {
        "colab": {
          "base_uri": "https://localhost:8080/",
          "height": 317
        },
        "id": "IquLGwB6pSwR",
        "outputId": "bec7425c-64d8-493e-fe4d-03c510d11eb0"
      },
      "outputs": [
        {
          "output_type": "execute_result",
          "data": {
            "text/plain": [
              "(array([44520., 49000., 37520., 42220., 60667.]),\n",
              " array([0, 1, 2, 3, 4, 5]),\n",
              " <a list of 5 Patch objects>)"
            ]
          },
          "metadata": {},
          "execution_count": 8
        },
        {
          "output_type": "display_data",
          "data": {
            "text/plain": [
              "<Figure size 432x288 with 1 Axes>"
            ],
            "image/png": "[encoded data removed]"
          },
          "metadata": {
            "needs_background": "light"
          }
        }
      ],
      "source": [
        "# plot a distribution of the words\n",
        "plt.hist(training_spectrogram['Y'], bins=range(0,len(command_words)+1), align='left')"
      ]
    },
    {
      "cell_type": "code",
      "execution_count": null,
      "metadata": {
        "colab": {
          "base_uri": "https://localhost:8080/"
        },
        "id": "ZXHaeU4uqLnM",
        "outputId": "47b1832c-b29b-49c6-a6f1-18aac34a98f5"
      },
      "outputs": [
        {
          "output_type": "stream",
          "name": "stdout",
          "text": [
            "[0 1 2 3 4] [44520 49000 37520 42220 60667]\n"
          ]
        },
        {
          "output_type": "execute_result",
          "data": {
            "text/plain": [
              "{'_invalid': 60667,\n",
              " 'backward': 49000,\n",
              " 'forward': 44520,\n",
              " 'left': 37520,\n",
              " 'right': 42220}"
            ]
          },
          "metadata": {},
          "execution_count": 9
        }
      ],
      "source": [
        "unique, counts = np.unique(training_spectrogram['Y'], return_counts=True)\n",
        "print(unique, counts)\n",
        "dict(zip([command_words[i] for i in unique], counts))"
      ]
    },
    {
      "cell_type": "code",
      "execution_count": null,
      "metadata": {
        "id": "4L_A47mDOgN_"
      },
      "outputs": [],
      "source": [
        "# extract the data from the files\n",
        "X_train = training_spectrogram['X']\n",
        "X_validate = validation_spectrogram['X']\n",
        "Y_train = tf.one_hot(training_spectrogram['Y'], len(command_words))\n",
        "Y_validate = tf.one_hot(validation_spectrogram['Y'], len(command_words))\n",
        "\n",
        "# get the width and height of the spectrogram \"image\"\n",
        "IMG_WIDTH=X_train[0].shape[0]\n",
        "IMG_HEIGHT=X_train[0].shape[1]\n",
        "\n",
        "train_size = len(X_train)"
      ]
    },
    {
      "cell_type": "code",
      "execution_count": null,
      "metadata": {
        "id": "-60v8-m3OgOF"
      },
      "outputs": [],
      "source": [
        "# create the datasets for training\n",
        "batch_size = 32\n",
        "\n",
        "train_dataset = Dataset.from_tensor_slices(\n",
        "    (X_train, Y_train)\n",
        ").repeat(\n",
        "    count=-1\n",
        ").shuffle(\n",
        "    train_size\n",
        ").batch(\n",
        "    batch_size\n",
        ")\n",
        "\n",
        "validation_dataset = Dataset.from_tensor_slices((X_validate, Y_validate)).batch(X_validate.shape[0]//10)"
      ]
    },
    {
      "cell_type": "code",
      "source": [
        "del X_train\n",
        "del X_validate\n",
        "del Y_train\n",
        "del Y_validate\n",
        "\n",
        "gc.collect()"
      ],
      "metadata": {
        "colab": {
          "base_uri": "https://localhost:8080/"
        },
        "id": "vSXiSaQriwDf",
        "outputId": "ed2631fa-66b3-4145-b056-e6ecc9f75f30"
      },
      "execution_count": null,
      "outputs": [
        {
          "output_type": "execute_result",
          "data": {
            "text/plain": [
              "129"
            ]
          },
          "metadata": {},
          "execution_count": 12
        }
      ]
    },
    {
      "cell_type": "code",
      "execution_count": null,
      "metadata": {
        "colab": {
          "base_uri": "https://localhost:8080/"
        },
        "id": "Wbnijb64OgOM",
        "outputId": "2a759cc1-e12d-43a7-ed5d-162630f0bdca"
      },
      "outputs": [
        {
          "output_type": "stream",
          "name": "stdout",
          "text": [
            "Model: \"sequential\"\n",
            "_________________________________________________________________\n",
            " Layer (type)                Output Shape              Param #   \n",
            "=================================================================\n",
            " conv_layer1 (Conv2D)        (None, 99, 43, 4)         40        \n",
            "                                                                 \n",
            " max_pooling1 (MaxPooling2D)  (None, 49, 21, 4)        0         \n",
            "                                                                 \n",
            " conv_layer2 (Conv2D)        (None, 49, 21, 4)         148       \n",
            "                                                                 \n",
            " max_pooling3 (MaxPooling2D)  (None, 24, 10, 4)        0         \n",
            "                                                                 \n",
            " flatten (Flatten)           (None, 960)               0         \n",
            "                                                                 \n",
            " dropout (Dropout)           (None, 960)               0         \n",
            "                                                                 \n",
            " hidden_layer1 (Dense)       (None, 80)                76880     \n",
            "                                                                 \n",
            " dropout_1 (Dropout)         (None, 80)                0         \n",
            "                                                                 \n",
            " output (Dense)              (None, 5)                 405       \n",
            "                                                                 \n",
            "=================================================================\n",
            "Total params: 77,473\n",
            "Trainable params: 77,473\n",
            "Non-trainable params: 0\n",
            "_________________________________________________________________\n"
          ]
        }
      ],
      "source": [
        "model = Sequential([\n",
        "    Conv2D(4, 3, \n",
        "           padding='same',\n",
        "           activation='relu',\n",
        "           kernel_regularizer=regularizers.l2(0.001),\n",
        "           name='conv_layer1',\n",
        "           input_shape=(IMG_WIDTH, IMG_HEIGHT, 1)),\n",
        "    MaxPooling2D(name='max_pooling1', pool_size=(2,2)),\n",
        "    Conv2D(4, 3, \n",
        "           padding='same',\n",
        "           activation='relu',\n",
        "           kernel_regularizer=regularizers.l2(0.001),\n",
        "           name='conv_layer2'),\n",
        "    MaxPooling2D(name='max_pooling3', pool_size=(2,2)),\n",
        "    Flatten(),\n",
        "    Dropout(0.1),\n",
        "    Dense(\n",
        "        80,\n",
        "        activation='relu',\n",
        "        kernel_regularizer=regularizers.l2(0.001),\n",
        "        name='hidden_layer1'\n",
        "    ),\n",
        "    Dropout(0.1),\n",
        "    Dense(\n",
        "        len(command_words), \n",
        "        activation='softmax',\n",
        "        kernel_regularizer=regularizers.l2(0.001),\n",
        "        name='output'\n",
        "    )\n",
        "])\n",
        "model.summary()"
      ]
    },
    {
      "cell_type": "code",
      "execution_count": null,
      "metadata": {
        "id": "gnEC2AOdOgOO"
      },
      "outputs": [],
      "source": [
        "epochs=3\n",
        "\n",
        "model.compile(optimizer='adam',\n",
        "              loss=tf.keras.losses.CategoricalCrossentropy(),\n",
        "              metrics=['accuracy'])"
      ]
    },
    {
      "cell_type": "markdown",
      "metadata": {
        "id": "pUzYHZJ2OgOR"
      },
      "source": [
        "# Logging to tensorboard\n",
        "We log the training stats along with the confusion matrix of the test data - should we be using the validation data"
      ]
    },
    {
      "cell_type": "markdown",
      "metadata": {
        "id": "me2W-gteOgOT"
      },
      "source": [
        "# Train model"
      ]
    },
    {
      "cell_type": "code",
      "execution_count": null,
      "metadata": {
        "colab": {
          "base_uri": "https://localhost:8080/"
        },
        "id": "9s--XYYIOgOW",
        "outputId": "db16576b-2fb7-4b70-8ead-ee2349e5f19d"
      },
      "outputs": [
        {
          "output_type": "stream",
          "name": "stdout",
          "text": [
            "Epoch 1/3\n",
            "14620/14620 [==============================] - 110s 7ms/step - loss: 0.5588 - accuracy: 0.8470 - val_loss: 0.4190 - val_accuracy: 0.9020\n",
            "Epoch 2/3\n",
            "14620/14620 [==============================] - 81s 6ms/step - loss: 0.4402 - accuracy: 0.8951 - val_loss: 0.3952 - val_accuracy: 0.9144\n",
            "Epoch 3/3\n",
            "14620/14620 [==============================] - 81s 6ms/step - loss: 0.4196 - accuracy: 0.9035 - val_loss: 0.4108 - val_accuracy: 0.9072\n"
          ]
        },
        {
          "output_type": "execute_result",
          "data": {
            "text/plain": [
              "<keras.callbacks.History at 0x7f9c75a7bed0>"
            ]
          },
          "metadata": {},
          "execution_count": 15
        }
      ],
      "source": [
        "model.fit(\n",
        "    train_dataset,\n",
        "    steps_per_epoch=train_size // batch_size,\n",
        "    epochs=epochs,\n",
        "    validation_data=validation_dataset,\n",
        "    validation_steps=10,\n",
        ")"
      ]
    },
    {
      "cell_type": "code",
      "execution_count": null,
      "metadata": {
        "colab": {
          "base_uri": "https://localhost:8080/"
        },
        "id": "v1u5dvHuYpsg",
        "outputId": "cb5fee97-03a5-4ac7-e7f1-cbafc34fb99f"
      },
      "outputs": [
        {
          "output_type": "stream",
          "name": "stdout",
          "text": [
            "INFO:tensorflow:Assets written to: trained.model/assets\n"
          ]
        }
      ],
      "source": [
        "model.save(\"trained.model\")"
      ]
    },
    {
      "cell_type": "markdown",
      "metadata": {
        "id": "s8Vok4uqFv6_"
      },
      "source": [
        "# Testing the Model"
      ]
    },
    {
      "cell_type": "code",
      "source": [
        "X_test = test_spectrogram['X']\n",
        "Y_test = tf.one_hot(test_spectrogram['Y'], len(command_words))\n",
        "\n",
        "test_dataset = Dataset.from_tensor_slices((X_test, Y_test)).batch(len(X_test))"
      ],
      "metadata": {
        "id": "z09i2pI1mCc3"
      },
      "execution_count": null,
      "outputs": []
    },
    {
      "cell_type": "code",
      "execution_count": null,
      "metadata": {
        "id": "21m-pPzgFmhD"
      },
      "outputs": [],
      "source": [
        "model2 =  keras.models.load_model(\"trained.model\")"
      ]
    },
    {
      "cell_type": "code",
      "execution_count": null,
      "metadata": {
        "id": "74brwGyVGZ7B"
      },
      "outputs": [],
      "source": [
        "results = model2.evaluate(X_test, tf.cast(Y_test, tf.float32), batch_size=128)"
      ]
    },
    {
      "cell_type": "code",
      "execution_count": null,
      "metadata": {
        "id": "uRkkvWOKM6hv"
      },
      "outputs": [],
      "source": [
        "predictions = model2.predict(X_test, 128)"
      ]
    },
    {
      "cell_type": "code",
      "execution_count": null,
      "metadata": {
        "id": "l8Lh4I71cjL7"
      },
      "outputs": [],
      "source": [
        "import itertools\n",
        "\n",
        "\n",
        "def plot_confusion_matrix(cm, class_names):\n",
        "    \"\"\"\n",
        "  Returns a matplotlib figure containing the plotted confusion matrix.\n",
        "\n",
        "  Args:\n",
        "    cm (array, shape = [n, n]): a confusion matrix of integer classes\n",
        "    class_names (array, shape = [n]): String names of the integer classes\n",
        "  \"\"\"\n",
        "    cm = cm.numpy()\n",
        "    # Normalize the confusion matrix.\n",
        "    cm = np.around(cm.astype(\"float\") / cm.sum(axis=1)[:, np.newaxis], decimals=2)\n",
        "\n",
        "    figure = plt.figure(figsize=(8, 8))\n",
        "    plt.imshow(cm, interpolation=\"nearest\", cmap=plt.cm.Blues)\n",
        "    plt.title(\"Confusion matrix\")\n",
        "    plt.colorbar()\n",
        "    tick_marks = np.arange(len(class_names))\n",
        "    plt.xticks(tick_marks, class_names, rotation=45)\n",
        "    plt.yticks(tick_marks, class_names)\n",
        "\n",
        "    # Use white text if squares are dark; otherwise black.\n",
        "    threshold = cm.max() / 2.0\n",
        "    for i, j in itertools.product(range(cm.shape[0]), range(cm.shape[1])):\n",
        "        color = \"white\" if cm[i, j] > threshold else \"black\"\n",
        "        plt.text(j, i, cm[i, j], horizontalalignment=\"center\", color=color)\n",
        "\n",
        "    plt.tight_layout()\n",
        "    plt.ylabel(\"True label\")\n",
        "    plt.xlabel(\"Predicted label\")\n",
        "    plt.show()\n",
        "#     return figure"
      ]
    },
    {
      "cell_type": "code",
      "execution_count": null,
      "metadata": {
        "scrolled": false,
        "id": "PhdAe7WLcjL7"
      },
      "outputs": [],
      "source": [
        "cm = tf.math.confusion_matrix(\n",
        "    labels=tf.argmax(Y_test, 1), predictions=tf.argmax(predictions, 1)\n",
        ")\n",
        "\n",
        "plot_confusion_matrix(cm, command_words)"
      ]
    }
  ],
  "metadata": {
    "accelerator": "GPU",
    "colab": {
      "collapsed_sections": [],
      "name": "train_speech_recognition_model.ipynb",
      "provenance": []
    },
    "kernelspec": {
      "display_name": "Python 3 (ipykernel)",
      "language": "python",
      "name": "python3"
    },
    "language_info": {
      "codemirror_mode": {
        "name": "ipython",
        "version": 3
      },
      "file_extension": ".py",
      "mimetype": "text/x-python",
      "name": "python",
      "nbconvert_exporter": "python",
      "pygments_lexer": "ipython3",
      "version": "3.9.7"
    }
  },
  "nbformat": 4,
  "nbformat_minor": 0
}