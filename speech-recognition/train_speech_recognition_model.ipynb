{
  "cells": [
    {
      "cell_type": "markdown",
      "metadata": {
        "id": "N5hMxX4YcoLW"
      },
      "source": [
        "# Test for GPU"
      ]
    },
    {
      "cell_type": "code",
      "execution_count": 1,
      "metadata": {
        "id": "cbE5DCX2cnpT"
      },
      "outputs": [
        {
          "name": "stdout",
          "output_type": "stream",
          "text": [
            "Thu Jul 14 08:55:57 2022       \n",
            "+-----------------------------------------------------------------------------+\n",
            "| NVIDIA-SMI 510.73.05    Driver Version: 510.73.05    CUDA Version: 11.6     |\n",
            "|-------------------------------+----------------------+----------------------+\n",
            "| GPU  Name        Persistence-M| Bus-Id        Disp.A | Volatile Uncorr. ECC |\n",
            "| Fan  Temp  Perf  Pwr:Usage/Cap|         Memory-Usage | GPU-Util  Compute M. |\n",
            "|                               |                      |               MIG M. |\n",
            "|===============================+======================+======================|\n",
            "|   0  NVIDIA GeForce ...  Off  | 00000000:01:00.0 Off |                  N/A |\n",
            "| N/A   54C    P8     3W /  N/A |      5MiB /  6144MiB |      0%      Default |\n",
            "|                               |                      |                  N/A |\n",
            "+-------------------------------+----------------------+----------------------+\n",
            "                                                                               \n",
            "+-----------------------------------------------------------------------------+\n",
            "| Processes:                                                                  |\n",
            "|  GPU   GI   CI        PID   Type   Process name                  GPU Memory |\n",
            "|        ID   ID                                                   Usage      |\n",
            "|=============================================================================|\n",
            "|    0   N/A  N/A      3050      G   /usr/lib/xorg/Xorg                  4MiB |\n",
            "+-----------------------------------------------------------------------------+\n"
          ]
        }
      ],
      "source": [
        "!nvidia-smi"
      ]
    },
    {
      "cell_type": "markdown",
      "metadata": {
        "id": "GzJYriKkcupW"
      },
      "source": [
        "# Get Training Data"
      ]
    },
    {
      "cell_type": "code",
      "execution_count": null,
      "metadata": {
        "id": "cOq0lvR5cygv"
      },
      "outputs": [],
      "source": [
        "def get_file(filename, url):\n",
        "    \"\"\"\n",
        "    get file with wget from url if the file does not exist\n",
        "    \"\"\"\n",
        "    COMMAND = f\"\"\"if [ -f {filename} ];\n",
        "    then\n",
        "        echo '{filename} already exists.';\n",
        "    else\n",
        "        wget '{url}';\n",
        "    fi\"\"\"\n",
        "    ! eval \"{COMMAND}\"\n",
        "\n",
        "url_prefix = \"https://github.com/ntueecamp/22-software-workshop/releases/download/v1.0.0/\"\n",
        "\n",
        "file_names = [\n",
        "    \"training_spectrogram.npz.xaa\",\n",
        "    \"training_spectrogram.npz.xab\",\n",
        "    \"training_spectrogram.npz.xac\",\n",
        "    \"validation_spectrogram.npz\",\n",
        "    \"test_spectrogram.npz\"\n",
        "]\n",
        "\n",
        "for f in file_names:\n",
        "    get_file(f, url_prefix+f)\n",
        "\n",
        "! if [ -f training_spectrogram.npz ]; \\\n",
        "then \\\n",
        "    echo \"training_spectrogram.npz already exists.\"; \\\n",
        "else \\\n",
        "    cat training_spectrogram.npz.xa* > training_spectrogram.npz; \\\n",
        "    echo \"done merging files\"; \\\n",
        "fi"
      ]
    },
    {
      "cell_type": "markdown",
      "metadata": {
        "id": "7ZuigSoBOgNw"
      },
      "source": [
        "# Training\n",
        "\n",
        "This treats the spectrograms of the words like images"
      ]
    },
    {
      "cell_type": "code",
      "execution_count": 3,
      "metadata": {
        "id": "aa6niXGfOgNx"
      },
      "outputs": [],
      "source": [
        "# Import all the things we will need\n",
        "import datetime\n",
        "import tensorflow as tf\n",
        "import numpy as np\n",
        "from tensorflow import keras\n",
        "from tensorflow.keras import regularizers\n",
        "from tensorflow.keras.models import Sequential\n",
        "from tensorflow.keras.layers import Dense, Conv2D, Flatten, Dropout, MaxPooling2D, BatchNormalization\n",
        "from tensorflow.data import Dataset\n",
        "import matplotlib.pyplot as plt\n",
        "import gc"
      ]
    },
    {
      "cell_type": "code",
      "execution_count": 4,
      "metadata": {
        "id": "E64TJ9oAcjLz"
      },
      "outputs": [],
      "source": [
        "# clear out any old logs\n",
        "!rm -rf ./logs/ "
      ]
    },
    {
      "cell_type": "code",
      "execution_count": 5,
      "metadata": {
        "id": "w3rOOpdlcjL0"
      },
      "outputs": [
        {
          "name": "stdout",
          "output_type": "stream",
          "text": [
            "Num GPUs Available:  1\n"
          ]
        },
        {
          "name": "stderr",
          "output_type": "stream",
          "text": [
            "2022-07-14 08:56:34.396055: I tensorflow/stream_executor/cuda/cuda_gpu_executor.cc:975] successful NUMA node read from SysFS had negative value (-1), but there must be at least one NUMA node, so returning NUMA node zero\n",
            "2022-07-14 08:56:34.402400: I tensorflow/stream_executor/cuda/cuda_gpu_executor.cc:975] successful NUMA node read from SysFS had negative value (-1), but there must be at least one NUMA node, so returning NUMA node zero\n",
            "2022-07-14 08:56:34.402584: I tensorflow/stream_executor/cuda/cuda_gpu_executor.cc:975] successful NUMA node read from SysFS had negative value (-1), but there must be at least one NUMA node, so returning NUMA node zero\n"
          ]
        }
      ],
      "source": [
        "print(\"Num GPUs Available: \", len(tf.config.experimental.list_physical_devices('GPU')))"
      ]
    },
    {
      "cell_type": "code",
      "execution_count": 7,
      "metadata": {
        "id": "-EENm2XtOgN6"
      },
      "outputs": [],
      "source": [
        "# List of the words in categorical order\n",
        "command_words = [\n",
        "    'follow',\n",
        "    'stop',\n",
        "    'go',\n",
        "    '_invalid',\n",
        "]"
      ]
    },
    {
      "cell_type": "code",
      "execution_count": 9,
      "metadata": {
        "id": "ERCnsdwMOgN9"
      },
      "outputs": [],
      "source": [
        "# Load up the sprectrograms and labels\n",
        "training_spectrogram = np.load('training_spectrogram.npz')\n",
        "validation_spectrogram = np.load('validation_spectrogram.npz')\n",
        "test_spectrogram = np.load('test_spectrogram.npz')"
      ]
    },
    {
      "cell_type": "code",
      "execution_count": 10,
      "metadata": {
        "id": "IquLGwB6pSwR"
      },
      "outputs": [
        {
          "data": {
            "text/plain": [
              "(array([31890., 30015., 32355., 79287.]),\n",
              " array([0, 1, 2, 3, 4]),\n",
              " <BarContainer object of 4 artists>)"
            ]
          },
          "execution_count": 10,
          "metadata": {},
          "output_type": "execute_result"
        },
        {
          "data": {
            "image/png": "[encoded data removed]",
            "text/plain": [
              "<Figure size 432x288 with 1 Axes>"
            ]
          },
          "metadata": {
            "needs_background": "light"
          },
          "output_type": "display_data"
        }
      ],
      "source": [
        "# plot a distribution of the words\n",
        "plt.hist(training_spectrogram['Y'], bins=range(0,len(command_words)+1), align='left')"
      ]
    },
    {
      "cell_type": "code",
      "execution_count": 12,
      "metadata": {
        "id": "ZXHaeU4uqLnM"
      },
      "outputs": [
        {
          "name": "stdout",
          "output_type": "stream",
          "text": [
            "[0 1 2 3] [31890 30015 32355 79287]\n"
          ]
        },
        {
          "data": {
            "text/plain": [
              "{'follow': 31890, 'stop': 30015, 'go': 32355, '_invalid': 79287}"
            ]
          },
          "execution_count": 12,
          "metadata": {},
          "output_type": "execute_result"
        }
      ],
      "source": [
        "unique, counts = np.unique(training_spectrogram['Y'], return_counts=True)\n",
        "print(unique, counts)\n",
        "dict(zip([command_words[i] for i in unique], counts))"
      ]
    },
    {
      "cell_type": "code",
      "execution_count": 13,
      "metadata": {
        "id": "4L_A47mDOgN_"
      },
      "outputs": [
        {
          "name": "stderr",
          "output_type": "stream",
          "text": [
            "2022-07-14 09:00:39.749265: I tensorflow/core/platform/cpu_feature_guard.cc:193] This TensorFlow binary is optimized with oneAPI Deep Neural Network Library (oneDNN) to use the following CPU instructions in performance-critical operations:  AVX2 FMA\n",
            "To enable them in other operations, rebuild TensorFlow with the appropriate compiler flags.\n",
            "2022-07-14 09:00:39.764260: I tensorflow/stream_executor/cuda/cuda_gpu_executor.cc:975] successful NUMA node read from SysFS had negative value (-1), but there must be at least one NUMA node, so returning NUMA node zero\n",
            "2022-07-14 09:00:39.766508: I tensorflow/stream_executor/cuda/cuda_gpu_executor.cc:975] successful NUMA node read from SysFS had negative value (-1), but there must be at least one NUMA node, so returning NUMA node zero\n",
            "2022-07-14 09:00:39.766831: I tensorflow/stream_executor/cuda/cuda_gpu_executor.cc:975] successful NUMA node read from SysFS had negative value (-1), but there must be at least one NUMA node, so returning NUMA node zero\n",
            "2022-07-14 09:00:40.716560: I tensorflow/stream_executor/cuda/cuda_gpu_executor.cc:975] successful NUMA node read from SysFS had negative value (-1), but there must be at least one NUMA node, so returning NUMA node zero\n",
            "2022-07-14 09:00:40.716892: I tensorflow/stream_executor/cuda/cuda_gpu_executor.cc:975] successful NUMA node read from SysFS had negative value (-1), but there must be at least one NUMA node, so returning NUMA node zero\n",
            "2022-07-14 09:00:40.717005: I tensorflow/stream_executor/cuda/cuda_gpu_executor.cc:975] successful NUMA node read from SysFS had negative value (-1), but there must be at least one NUMA node, so returning NUMA node zero\n",
            "2022-07-14 09:00:40.718840: I tensorflow/core/common_runtime/gpu/gpu_device.cc:1532] Created device /job:localhost/replica:0/task:0/device:GPU:0 with 4655 MB memory:  -> device: 0, name: NVIDIA GeForce GTX 1660 Ti with Max-Q Design, pci bus id: 0000:01:00.0, compute capability: 7.5\n"
          ]
        }
      ],
      "source": [
        "# extract the data from the files\n",
        "X_train = training_spectrogram['X']\n",
        "X_validate = validation_spectrogram['X']\n",
        "Y_train = tf.one_hot(training_spectrogram['Y'], len(command_words))\n",
        "Y_validate = tf.one_hot(validation_spectrogram['Y'], len(command_words))\n",
        "\n",
        "# get the width and height of the spectrogram \"image\"\n",
        "IMG_WIDTH=X_train[0].shape[0]\n",
        "IMG_HEIGHT=X_train[0].shape[1]\n",
        "\n",
        "train_size = len(X_train)"
      ]
    },
    {
      "cell_type": "code",
      "execution_count": 14,
      "metadata": {
        "id": "-60v8-m3OgOF"
      },
      "outputs": [
        {
          "name": "stderr",
          "output_type": "stream",
          "text": [
            "2022-07-14 09:00:46.156648: W tensorflow/core/framework/cpu_allocator_impl.cc:82] Allocation of 2955158316 exceeds 10% of free system memory.\n",
            "2022-07-14 09:00:48.681084: W tensorflow/core/framework/cpu_allocator_impl.cc:82] Allocation of 2955158316 exceeds 10% of free system memory.\n",
            "2022-07-14 09:00:49.771936: W tensorflow/core/framework/cpu_allocator_impl.cc:82] Allocation of 368434836 exceeds 10% of free system memory.\n",
            "2022-07-14 09:00:50.190420: W tensorflow/core/framework/cpu_allocator_impl.cc:82] Allocation of 368434836 exceeds 10% of free system memory.\n"
          ]
        }
      ],
      "source": [
        "# create the datasets for training\n",
        "batch_size = 32\n",
        "\n",
        "train_dataset = Dataset.from_tensor_slices(\n",
        "    (X_train, Y_train)\n",
        ").repeat(\n",
        "    count=-1\n",
        ").shuffle(\n",
        "    train_size\n",
        ").batch(\n",
        "    batch_size\n",
        ")\n",
        "\n",
        "validation_dataset = Dataset.from_tensor_slices((X_validate, Y_validate)).batch(X_validate.shape[0]//10)"
      ]
    },
    {
      "cell_type": "code",
      "execution_count": 15,
      "metadata": {
        "id": "vSXiSaQriwDf"
      },
      "outputs": [
        {
          "data": {
            "text/plain": [
              "0"
            ]
          },
          "execution_count": 15,
          "metadata": {},
          "output_type": "execute_result"
        }
      ],
      "source": [
        "del X_train\n",
        "del X_validate\n",
        "del Y_train\n",
        "del Y_validate\n",
        "\n",
        "gc.collect()"
      ]
    },
    {
      "cell_type": "code",
      "execution_count": 16,
      "metadata": {
        "id": "Wbnijb64OgOM"
      },
      "outputs": [
        {
          "name": "stdout",
          "output_type": "stream",
          "text": [
            "Model: \"sequential\"\n",
            "_________________________________________________________________\n",
            " Layer (type)                Output Shape              Param #   \n",
            "=================================================================\n",
            " conv_layer1 (Conv2D)        (None, 99, 43, 4)         40        \n",
            "                                                                 \n",
            " max_pooling1 (MaxPooling2D)  (None, 49, 21, 4)        0         \n",
            "                                                                 \n",
            " conv_layer2 (Conv2D)        (None, 49, 21, 4)         148       \n",
            "                                                                 \n",
            " max_pooling3 (MaxPooling2D)  (None, 24, 10, 4)        0         \n",
            "                                                                 \n",
            " flatten (Flatten)           (None, 960)               0         \n",
            "                                                                 \n",
            " dropout (Dropout)           (None, 960)               0         \n",
            "                                                                 \n",
            " hidden_layer1 (Dense)       (None, 80)                76880     \n",
            "                                                                 \n",
            " dropout_1 (Dropout)         (None, 80)                0         \n",
            "                                                                 \n",
            " output (Dense)              (None, 4)                 324       \n",
            "                                                                 \n",
            "=================================================================\n",
            "Total params: 77,392\n",
            "Trainable params: 77,392\n",
            "Non-trainable params: 0\n",
            "_________________________________________________________________\n"
          ]
        }
      ],
      "source": [
        "model = Sequential([\n",
        "    Conv2D(4, 3, \n",
        "           padding='same',\n",
        "           activation='relu',\n",
        "           kernel_regularizer=regularizers.l2(0.001),\n",
        "           name='conv_layer1',\n",
        "           input_shape=(IMG_WIDTH, IMG_HEIGHT, 1)),\n",
        "    MaxPooling2D(name='max_pooling1', pool_size=(2,2)),\n",
        "    Conv2D(4, 3, \n",
        "           padding='same',\n",
        "           activation='relu',\n",
        "           kernel_regularizer=regularizers.l2(0.001),\n",
        "           name='conv_layer2'),\n",
        "    MaxPooling2D(name='max_pooling3', pool_size=(2,2)),\n",
        "    Flatten(),\n",
        "    Dropout(0.1),\n",
        "    Dense(\n",
        "        80,\n",
        "        activation='relu',\n",
        "        kernel_regularizer=regularizers.l2(0.001),\n",
        "        name='hidden_layer1'\n",
        "    ),\n",
        "    Dropout(0.1),\n",
        "    Dense(\n",
        "        len(command_words), \n",
        "        activation='softmax',\n",
        "        kernel_regularizer=regularizers.l2(0.001),\n",
        "        name='output'\n",
        "    )\n",
        "])\n",
        "model.summary()"
      ]
    },
    {
      "cell_type": "code",
      "execution_count": 18,
      "metadata": {
        "id": "gnEC2AOdOgOO"
      },
      "outputs": [],
      "source": [
        "epochs=3\n",
        "\n",
        "model.compile(optimizer='adam',\n",
        "              loss=tf.keras.losses.CategoricalCrossentropy(),\n",
        "              metrics=['accuracy'])"
      ]
    },
    {
      "cell_type": "markdown",
      "metadata": {
        "id": "pUzYHZJ2OgOR"
      },
      "source": [
        "# Logging to tensorboard\n",
        "We log the training stats along with the confusion matrix of the test data - should we be using the validation data"
      ]
    },
    {
      "cell_type": "markdown",
      "metadata": {
        "id": "me2W-gteOgOT"
      },
      "source": [
        "# Train model"
      ]
    },
    {
      "cell_type": "code",
      "execution_count": 19,
      "metadata": {
        "id": "9s--XYYIOgOW"
      },
      "outputs": [
        {
          "name": "stderr",
          "output_type": "stream",
          "text": [
            "2022-07-14 09:01:33.234430: W tensorflow/core/framework/cpu_allocator_impl.cc:82] Allocation of 2955158316 exceeds 10% of free system memory.\n"
          ]
        },
        {
          "name": "stdout",
          "output_type": "stream",
          "text": [
            "Epoch 1/3\n"
          ]
        },
        {
          "name": "stderr",
          "output_type": "stream",
          "text": [
            "2022-07-14 09:01:39.599830: I tensorflow/stream_executor/cuda/cuda_dnn.cc:384] Loaded cuDNN version 8100\n",
            "2022-07-14 09:01:41.756043: I tensorflow/core/platform/default/subprocess.cc:304] Start cannot spawn child process: No such file or directory\n",
            "2022-07-14 09:01:41.757899: I tensorflow/core/platform/default/subprocess.cc:304] Start cannot spawn child process: No such file or directory\n",
            "2022-07-14 09:01:41.757993: W tensorflow/stream_executor/gpu/asm_compiler.cc:80] Couldn't get ptxas version string: INTERNAL: Couldn't invoke ptxas --version\n",
            "2022-07-14 09:01:41.874698: I tensorflow/core/platform/default/subprocess.cc:304] Start cannot spawn child process: No such file or directory\n",
            "2022-07-14 09:01:41.874909: W tensorflow/stream_executor/gpu/redzone_allocator.cc:314] INTERNAL: Failed to launch ptxas\n",
            "Relying on driver to perform ptx compilation. \n",
            "Modify $PATH to customize ptxas location.\n",
            "This message will be only logged once.\n"
          ]
        },
        {
          "name": "stdout",
          "output_type": "stream",
          "text": [
            "5423/5423 [==============================] - 66s 8ms/step - loss: 0.5671 - accuracy: 0.8222 - val_loss: 0.4869 - val_accuracy: 0.8724\n",
            "Epoch 2/3\n",
            "5423/5423 [==============================] - 38s 7ms/step - loss: 0.4323 - accuracy: 0.8816 - val_loss: 0.4408 - val_accuracy: 0.8912\n",
            "Epoch 3/3\n",
            "5423/5423 [==============================] - 40s 7ms/step - loss: 0.4028 - accuracy: 0.8952 - val_loss: 0.4392 - val_accuracy: 0.8942\n"
          ]
        },
        {
          "data": {
            "text/plain": [
              "<keras.callbacks.History at 0x7faa5c642f10>"
            ]
          },
          "execution_count": 19,
          "metadata": {},
          "output_type": "execute_result"
        }
      ],
      "source": [
        "model.fit(\n",
        "    train_dataset,\n",
        "    steps_per_epoch=train_size // batch_size,\n",
        "    epochs=epochs,\n",
        "    validation_data=validation_dataset,\n",
        "    validation_steps=10,\n",
        ")"
      ]
    },
    {
      "cell_type": "code",
      "execution_count": 20,
      "metadata": {
        "id": "v1u5dvHuYpsg"
      },
      "outputs": [
        {
          "name": "stderr",
          "output_type": "stream",
          "text": [
            "WARNING:absl:Found untraced functions such as _jit_compiled_convolution_op, _jit_compiled_convolution_op while saving (showing 2 of 2). These functions will not be directly callable after loading.\n"
          ]
        },
        {
          "name": "stdout",
          "output_type": "stream",
          "text": [
            "INFO:tensorflow:Assets written to: trained.model/assets\n"
          ]
        },
        {
          "name": "stderr",
          "output_type": "stream",
          "text": [
            "INFO:tensorflow:Assets written to: trained.model/assets\n"
          ]
        }
      ],
      "source": [
        "model.save(\"trained.model\")"
      ]
    },
    {
      "cell_type": "markdown",
      "metadata": {
        "id": "s8Vok4uqFv6_"
      },
      "source": [
        "# Testing the Model"
      ]
    },
    {
      "cell_type": "code",
      "execution_count": null,
      "metadata": {
        "id": "z09i2pI1mCc3"
      },
      "outputs": [],
      "source": [
        "X_test = test_spectrogram['X']\n",
        "Y_test = tf.one_hot(test_spectrogram['Y'], len(command_words))\n",
        "\n",
        "test_dataset = Dataset.from_tensor_slices((X_test, Y_test)).batch(len(X_test))"
      ]
    },
    {
      "cell_type": "code",
      "execution_count": null,
      "metadata": {
        "id": "21m-pPzgFmhD"
      },
      "outputs": [],
      "source": [
        "model2 =  keras.models.load_model(\"trained.model\")"
      ]
    },
    {
      "cell_type": "code",
      "execution_count": null,
      "metadata": {
        "id": "74brwGyVGZ7B"
      },
      "outputs": [],
      "source": [
        "results = model2.evaluate(X_test, tf.cast(Y_test, tf.float32), batch_size=128)"
      ]
    },
    {
      "cell_type": "code",
      "execution_count": null,
      "metadata": {
        "id": "uRkkvWOKM6hv"
      },
      "outputs": [],
      "source": [
        "predictions = model2.predict(X_test, 128)"
      ]
    },
    {
      "cell_type": "code",
      "execution_count": null,
      "metadata": {
        "id": "l8Lh4I71cjL7"
      },
      "outputs": [],
      "source": [
        "import itertools\n",
        "\n",
        "\n",
        "def plot_confusion_matrix(cm, class_names):\n",
        "    \"\"\"\n",
        "  Returns a matplotlib figure containing the plotted confusion matrix.\n",
        "\n",
        "  Args:\n",
        "    cm (array, shape = [n, n]): a confusion matrix of integer classes\n",
        "    class_names (array, shape = [n]): String names of the integer classes\n",
        "  \"\"\"\n",
        "    cm = cm.numpy()\n",
        "    # Normalize the confusion matrix.[c]rea\n",
        "    cm = np.around(cm.astype(\"float\") / cm.sum(axis=1)[:, np.newaxis], decimals=2)\n",
        "\n",
        "    figure = plt.figure(figsize=(8, 8))\n",
        "    plt.imshow(cm, interpolation=\"nearest\", cmap=plt.cm.Blues)\n",
        "    plt.title(\"Confusion matrix\")\n",
        "    plt.colorbar()\n",
        "    tick_marks = np.arange(len(class_names))\n",
        "    plt.xticks(tick_marks, class_names, rotation=45)\n",
        "    plt.yticks(tick_marks, class_names)\n",
        "\n",
        "    # Use white text if squares are dark; otherwise black.\n",
        "    threshold = cm.max() / 2.0\n",
        "    for i, j in itertools.product(range(cm.shape[0]), range(cm.shape[1])):\n",
        "        color = \"white\" if cm[i, j] > threshold else \"black\"\n",
        "        plt.text(j, i, cm[i, j], horizontalalignment=\"center\", color=color)\n",
        "\n",
        "    plt.tight_layout()\n",
        "    plt.ylabel(\"True label\")\n",
        "    plt.xlabel(\"Predicted label\")\n",
        "    plt.show()\n",
        "#     return figure"
      ]
    },
    {
      "cell_type": "code",
      "execution_count": null,
      "metadata": {
        "id": "PhdAe7WLcjL7",
        "scrolled": false
      },
      "outputs": [],
      "source": [
        "cm = tf.math.confusion_matrix(\n",
        "    labels=tf.argmax(Y_test, 1), predictions=tf.argmax(predictions, 1)\n",
        ")\n",
        "\n",
        "plot_confusion_matrix(cm, command_words)"
      ]
    },
    {
      "cell_type": "markdown",
      "metadata": {
        "id": "1fRlWkJeDaS8"
      },
      "source": [
        "# Save the model to local\n"
      ]
    },
    {
      "cell_type": "code",
      "execution_count": null,
      "metadata": {
        "id": "WF4W0O3MDZ08"
      },
      "outputs": [],
      "source": [
        "!zip -r trained_model.zip trained.model "
      ]
    },
    {
      "cell_type": "code",
      "execution_count": null,
      "metadata": {
        "id": "EtQ1X3efEApO"
      },
      "outputs": [],
      "source": [
        "validation_spectrogram = np.load('validation_spectrogram.npz')\n",
        "X_validate = validation_spectrogram['X']\n",
        "\n",
        "converter2 = tf.lite.TFLiteConverter.from_saved_model(\"trained.model\")\n",
        "converter2.optimizations = [tf.lite.Optimize.DEFAULT]\n",
        "def representative_dataset_gen():\n",
        "    for i in range(0, len(X_validate), 100):\n",
        "        # Get sample input data as a numpy array in a method of your choosing.\n",
        "        yield [X_validate[i:i+100]]\n",
        "converter2.representative_dataset = representative_dataset_gen\n",
        "converter2.target_spec.supported_ops = [tf.lite.OpsSet.TFLITE_BUILTINS_INT8]\n",
        "tflite_quant_model = converter2.convert()\n",
        "open(\"converted_model.tflite\", \"wb\").write(tflite_quant_model)"
      ]
    },
    {
      "cell_type": "code",
      "execution_count": null,
      "metadata": {
        "id": "vl2YyR_zFRyq"
      },
      "outputs": [],
      "source": [
        "!apt install xxd\n",
        "!xxd -i converted_model.tflite > model_data.cc"
      ]
    }
  ],
  "metadata": {
    "accelerator": "GPU",
    "colab": {
      "collapsed_sections": [],
      "name": "train_speech_recognition_model.ipynb",
      "provenance": []
    },
    "kernelspec": {
      "display_name": "Python 3.8.13 ('tf')",
      "language": "python",
      "name": "python3"
    },
    "language_info": {
      "codemirror_mode": {
        "name": "ipython",
        "version": 3
      },
      "file_extension": ".py",
      "mimetype": "text/x-python",
      "name": "python",
      "nbconvert_exporter": "python",
      "pygments_lexer": "ipython3",
      "version": "3.9.13"
    },
    "vscode": {
      "interpreter": {
        "hash": "35141f1555d117d13d8a97227602b7c05f581de6af11404d5f0697cb290e6ebc"
      }
    }
  },
  "nbformat": 4,
  "nbformat_minor": 0
}
